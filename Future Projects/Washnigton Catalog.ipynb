{
 "cells": [
  {
   "cell_type": "code",
   "execution_count": 1,
   "metadata": {},
   "outputs": [
    {
     "data": {
      "text/html": [
       "<div>\n",
       "<style scoped>\n",
       "    .dataframe tbody tr th:only-of-type {\n",
       "        vertical-align: middle;\n",
       "    }\n",
       "\n",
       "    .dataframe tbody tr th {\n",
       "        vertical-align: top;\n",
       "    }\n",
       "\n",
       "    .dataframe thead th {\n",
       "        text-align: right;\n",
       "    }\n",
       "</style>\n",
       "<table border=\"1\" class=\"dataframe\">\n",
       "  <thead>\n",
       "    <tr style=\"text-align: right;\">\n",
       "      <th></th>\n",
       "      <th>Name</th>\n",
       "      <th>Disc. Date</th>\n",
       "      <th>Type</th>\n",
       "    </tr>\n",
       "  </thead>\n",
       "  <tbody>\n",
       "    <tr>\n",
       "      <th>0</th>\n",
       "      <td>1RXS J013308.9+383218</td>\n",
       "      <td>2009/10/27</td>\n",
       "      <td>CataclyV</td>\n",
       "    </tr>\n",
       "    <tr>\n",
       "      <th>1</th>\n",
       "      <td>1RXS J044027.0+023300</td>\n",
       "      <td>2009/02/19</td>\n",
       "      <td>CataclyV</td>\n",
       "    </tr>\n",
       "    <tr>\n",
       "      <th>2</th>\n",
       "      <td>1RXS J221343.9+173301</td>\n",
       "      <td>2009/09/17</td>\n",
       "      <td>CataclyV</td>\n",
       "    </tr>\n",
       "    <tr>\n",
       "      <th>3</th>\n",
       "      <td>2SLAQ J081418.92-005022.0</td>\n",
       "      <td>2008/04/09</td>\n",
       "      <td>CataclyV</td>\n",
       "    </tr>\n",
       "    <tr>\n",
       "      <th>4</th>\n",
       "      <td>AT2021vgi</td>\n",
       "      <td>2009</td>\n",
       "      <td>N</td>\n",
       "    </tr>\n",
       "    <tr>\n",
       "      <th>...</th>\n",
       "      <td>...</td>\n",
       "      <td>...</td>\n",
       "      <td>...</td>\n",
       "    </tr>\n",
       "    <tr>\n",
       "      <th>15701</th>\n",
       "      <td>ZTF21aapvkyy</td>\n",
       "      <td>NaN</td>\n",
       "      <td>CataclyV</td>\n",
       "    </tr>\n",
       "    <tr>\n",
       "      <th>15702</th>\n",
       "      <td>ZTF21aavqior</td>\n",
       "      <td>2021/04/16</td>\n",
       "      <td>NaN</td>\n",
       "    </tr>\n",
       "    <tr>\n",
       "      <th>15703</th>\n",
       "      <td>ZTF21abbxnbm</td>\n",
       "      <td>NaN</td>\n",
       "      <td>CataclyV</td>\n",
       "    </tr>\n",
       "    <tr>\n",
       "      <th>15704</th>\n",
       "      <td>ZTF21abzydnp</td>\n",
       "      <td>NaN</td>\n",
       "      <td>CataclyV</td>\n",
       "    </tr>\n",
       "    <tr>\n",
       "      <th>15705</th>\n",
       "      <td>ZTF23aagmerr</td>\n",
       "      <td>NaN</td>\n",
       "      <td>N</td>\n",
       "    </tr>\n",
       "  </tbody>\n",
       "</table>\n",
       "<p>15706 rows × 3 columns</p>\n",
       "</div>"
      ],
      "text/plain": [
       "                            Name  Disc. Date      Type\n",
       "0          1RXS J013308.9+383218  2009/10/27  CataclyV\n",
       "1          1RXS J044027.0+023300  2009/02/19  CataclyV\n",
       "2          1RXS J221343.9+173301  2009/09/17  CataclyV\n",
       "3      2SLAQ J081418.92-005022.0  2008/04/09  CataclyV\n",
       "4                      AT2021vgi        2009         N\n",
       "...                          ...         ...       ...\n",
       "15701               ZTF21aapvkyy         NaN  CataclyV\n",
       "15702               ZTF21aavqior  2021/04/16       NaN\n",
       "15703               ZTF21abbxnbm         NaN  CataclyV\n",
       "15704               ZTF21abzydnp         NaN  CataclyV\n",
       "15705               ZTF23aagmerr         NaN         N\n",
       "\n",
       "[15706 rows x 3 columns]"
      ]
     },
     "execution_count": 1,
     "metadata": {},
     "output_type": "execute_result"
    }
   ],
   "source": [
    "import pandas as pd\n",
    "\n",
    "# File path\n",
    "file_path = \"/Users/mridul/Downloads/The Open Cataclysmic Variable Catalog.csv\"\n",
    "\n",
    "# Read CSV file into a pandas dataframe\n",
    "df = pd.read_csv(file_path)\n",
    "\n",
    "df"
   ]
  },
  {
   "cell_type": "code",
   "execution_count": 2,
   "metadata": {},
   "outputs": [
    {
     "data": {
      "text/plain": [
       "Name          object\n",
       "Disc. Date    object\n",
       "Type          object\n",
       "dtype: object"
      ]
     },
     "execution_count": 2,
     "metadata": {},
     "output_type": "execute_result"
    }
   ],
   "source": [
    "df.dtypes"
   ]
  },
  {
   "cell_type": "code",
   "execution_count": 3,
   "metadata": {},
   "outputs": [
    {
     "data": {
      "text/plain": [
       "array(['CataclyV', 'N', 'CataclyV_Candidate', nan, 'known CV',\n",
       "       'Candidate', 'Nova_Candidate', 'Known CV', 'DN', 'AntiNova',\n",
       "       'Candidate Nova', 'Cataclysmic_Variable'], dtype=object)"
      ]
     },
     "execution_count": 3,
     "metadata": {},
     "output_type": "execute_result"
    }
   ],
   "source": [
    "df['Type'].unique()"
   ]
  },
  {
   "cell_type": "code",
   "execution_count": 5,
   "metadata": {},
   "outputs": [],
   "source": [
    "known_CV = df['Type'].value_counts().get('known CV', 0)\n",
    "Known_CV = df['Type'].value_counts().get('Known CV', 0)\n",
    "CV = df['Type'].value_counts().get('CataclyV', 0)"
   ]
  },
  {
   "cell_type": "code",
   "execution_count": 6,
   "metadata": {},
   "outputs": [
    {
     "name": "stdout",
     "output_type": "stream",
     "text": [
      "972\n",
      "240\n",
      "4002\n"
     ]
    }
   ],
   "source": [
    "print(known_CV)\n",
    "print(Known_CV)\n",
    "print(CV)"
   ]
  },
  {
   "cell_type": "code",
   "execution_count": null,
   "metadata": {},
   "outputs": [],
   "source": []
  }
 ],
 "metadata": {
  "kernelspec": {
   "display_name": "Python 3",
   "language": "python",
   "name": "python3"
  },
  "language_info": {
   "codemirror_mode": {
    "name": "ipython",
    "version": 3
   },
   "file_extension": ".py",
   "mimetype": "text/x-python",
   "name": "python",
   "nbconvert_exporter": "python",
   "pygments_lexer": "ipython3",
   "version": "3.11.4"
  }
 },
 "nbformat": 4,
 "nbformat_minor": 2
}

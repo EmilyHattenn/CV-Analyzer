{
 "cells": [
  {
   "cell_type": "markdown",
   "id": "684dd7cb",
   "metadata": {},
   "source": [
    "# Light Curve of one sector"
   ]
  },
  {
   "cell_type": "code",
   "execution_count": null,
   "id": "deb400c7",
   "metadata": {},
   "outputs": [],
   "source": [
    "%matplotlib widget\n",
    "import matplotlib.pyplot as plt\n",
    "import lightkurve as lk"
   ]
  },
  {
   "cell_type": "code",
   "execution_count": null,
   "id": "64c3e337",
   "metadata": {},
   "outputs": [],
   "source": [
    "#BH Lyn\n",
    "TIC = 'TIC 276252961'\n",
    "\n",
    "sector_data = lk.search_lightcurve(TIC, author = 'SPOC', sector = 60)\n",
    "\n",
    "sector_data"
   ]
  },
  {
   "cell_type": "code",
   "execution_count": null,
   "id": "8334c011",
   "metadata": {},
   "outputs": [],
   "source": [
    "lc = sector_data.download()\n",
    "\n",
    "import matplotlib.pyplot as plt\n",
    "lc.plot(linewidth = 0, marker = '.', color = 'navy', alpha = 0.4)"
   ]
  },
  {
   "cell_type": "markdown",
   "id": "868b01d6",
   "metadata": {},
   "source": [
    "## Normalize Data"
   ]
  },
  {
   "cell_type": "code",
   "execution_count": null,
   "id": "74a04abf",
   "metadata": {},
   "outputs": [],
   "source": [
    "lc_normalized = lc.normalize()\n",
    "lc_normalized.plot(linewidth = 0, marker = '.', color = 'b', alpha = 0.4)"
   ]
  },
  {
   "cell_type": "markdown",
   "id": "0132ed2e",
   "metadata": {},
   "source": [
    "## Bin data of one sector"
   ]
  },
  {
   "cell_type": "code",
   "execution_count": null,
   "id": "c02ede2a",
   "metadata": {},
   "outputs": [],
   "source": [
    "bin_time = 15/24/60\n",
    "\n",
    "lc_binned = lc_normalized.bin(bin_time)"
   ]
  },
  {
   "cell_type": "code",
   "execution_count": null,
   "id": "f0ce60a4",
   "metadata": {},
   "outputs": [],
   "source": [
    "lc_binned.plot()"
   ]
  },
  {
   "cell_type": "markdown",
   "id": "4f718ac8",
   "metadata": {},
   "source": [
    "## Binned and Unbinned data together"
   ]
  },
  {
   "cell_type": "code",
   "execution_count": null,
   "id": "a552b846",
   "metadata": {},
   "outputs": [],
   "source": [
    "import matplotlib.pyplot as plt\n",
    "\n",
    "fig, ax = plt.subplots(figsize = (8,5))\n",
    "\n",
    "lc_normalized.plot(ax = ax, linewidth = 0, marker = '.', color = 'gold', markersize = 1)\n",
    "lc_binned.plot(ax = ax, color = 'k') #linewidth = 0, marker = 'o', markersize = 1)"
   ]
  },
  {
   "cell_type": "markdown",
   "id": "b3430175",
   "metadata": {},
   "source": [
    "# Light Curve from multiple sectors"
   ]
  },
  {
   "cell_type": "code",
   "execution_count": null,
   "id": "bb46a62b",
   "metadata": {},
   "outputs": [],
   "source": [
    "%matplotlib widget\n",
    "import matplotlib.pyplot as plt\n",
    "import lightkurve as lk"
   ]
  },
  {
   "cell_type": "code",
   "execution_count": null,
   "id": "e42715fe",
   "metadata": {},
   "outputs": [],
   "source": [
    "#V416 Dra\n",
    "TIC_2 = 'TIC 240872692'\n",
    "\n",
    "sector_data_all = lk.search_lightcurve(TIC_2, author = 'SPOC')\n",
    "\n",
    "sector_data_all"
   ]
  },
  {
   "cell_type": "code",
   "execution_count": null,
   "id": "8db63204",
   "metadata": {},
   "outputs": [],
   "source": [
    "select_sector = sector_data_all[2:4]\n",
    "\n",
    "select_sector"
   ]
  },
  {
   "cell_type": "code",
   "execution_count": null,
   "id": "09682c41",
   "metadata": {},
   "outputs": [],
   "source": [
    "lc_coll = select_sector.download_all()"
   ]
  },
  {
   "cell_type": "code",
   "execution_count": null,
   "id": "4dd443ff",
   "metadata": {},
   "outputs": [],
   "source": [
    "import matplotlib.pyplot as plt\n",
    "lc_coll.plot(linewidth = 0, marker = '.', color = 'green', alpha = 0.4)"
   ]
  },
  {
   "cell_type": "markdown",
   "id": "09dfcdfd",
   "metadata": {},
   "source": [
    "## Normalize & Stitch Data"
   ]
  },
  {
   "cell_type": "code",
   "execution_count": null,
   "id": "fbc4d57a",
   "metadata": {},
   "outputs": [],
   "source": [
    "lc_coll_stitched = lc_coll.stitch()"
   ]
  },
  {
   "cell_type": "code",
   "execution_count": null,
   "id": "0505a48d",
   "metadata": {},
   "outputs": [],
   "source": [
    "lc_coll_stitched.plot(linewidth = 0, marker = '.', color = 'firebrick', alpha = 0.2)"
   ]
  },
  {
   "cell_type": "markdown",
   "id": "bfa34cd2",
   "metadata": {},
   "source": [
    "## Bin data of multiple sectors"
   ]
  },
  {
   "cell_type": "code",
   "execution_count": null,
   "id": "fe3d61e2",
   "metadata": {},
   "outputs": [],
   "source": [
    "bin_time = 15/24/60\n",
    "\n",
    "lc_coll_binned = lc_coll_stitched.bin(bin_time)"
   ]
  },
  {
   "cell_type": "code",
   "execution_count": null,
   "id": "7943a8e7",
   "metadata": {},
   "outputs": [],
   "source": [
    "lc_coll_binned.plot()"
   ]
  },
  {
   "cell_type": "markdown",
   "id": "bca6f6c9",
   "metadata": {},
   "source": [
    "## Binned and Unbinned data together for multiple sectors"
   ]
  },
  {
   "cell_type": "code",
   "execution_count": null,
   "id": "50d6ad1a",
   "metadata": {},
   "outputs": [],
   "source": [
    "import matplotlib.pyplot as plt\n",
    "\n",
    "fig, ax = plt.subplots(figsize = (8,5))\n",
    "\n",
    "lc_coll_stitched.plot(ax = ax, linewidth = 0, marker = '.', color = 'gold', markersize = 1)\n",
    "lc_coll_binned.plot(ax = ax, color = 'k') #linewidth = 0, marker = 'o', markersize = 1)"
   ]
  },
  {
   "cell_type": "code",
   "execution_count": null,
   "id": "12807040",
   "metadata": {},
   "outputs": [],
   "source": []
  }
 ],
 "metadata": {
  "kernelspec": {
   "display_name": "Python 3 (ipykernel)",
   "language": "python",
   "name": "python3"
  },
  "language_info": {
   "codemirror_mode": {
    "name": "ipython",
    "version": 3
   },
   "file_extension": ".py",
   "mimetype": "text/x-python",
   "name": "python",
   "nbconvert_exporter": "python",
   "pygments_lexer": "ipython3",
   "version": "3.11.4"
  }
 },
 "nbformat": 4,
 "nbformat_minor": 5
}

{
 "cells": [
  {
   "cell_type": "code",
   "execution_count": 4,
   "id": "5ec39c9f",
   "metadata": {},
   "outputs": [
    {
     "name": "stdout",
     "output_type": "stream",
     "text": [
      "122.74137259851 -34.99812148519366\n"
     ]
    }
   ],
   "source": [
    "import astropy.units as u\n",
    "import astropy.time\n",
    "import astropy.coordinates\n",
    "\n",
    "coord = astropy.coordinates.TETE(\n",
    "    ra=13 * u.deg,\n",
    "    dec=28 * u.deg,\n",
    "    obstime=astropy.time.Time(\"2023-08-01\")\n",
    ")\n",
    "\n",
    "coord = coord.transform_to(astropy.coordinates.Galactic())\n",
    "\n",
    "print(coord.l.deg, coord.b.deg)"
   ]
  },
  {
   "cell_type": "code",
   "execution_count": null,
   "id": "5cb16b81",
   "metadata": {},
   "outputs": [],
   "source": [
    "a = latitude\n",
    "d = declination\n",
    "l = galactic longitud\n",
    "b = galactic latitude\n",
    "n = 122.93192\n",
    "e = 27.12825\n",
    "u = 192.85948\n",
    "\n",
    "\n",
    "d = arccos((cos(n-l)*cos(b)) / sin(a-u))\n",
    "\n",
    "d = arccos((sin(b) - sin(d)*sin(e) / (cos(e)*cos(a-u)))"
   ]
  },
  {
   "cell_type": "code",
   "execution_count": null,
   "id": "1ca6a5d2",
   "metadata": {},
   "outputs": [],
   "source": []
  }
 ],
 "metadata": {
  "kernelspec": {
   "display_name": "Python 3 (ipykernel)",
   "language": "python",
   "name": "python3"
  },
  "language_info": {
   "codemirror_mode": {
    "name": "ipython",
    "version": 3
   },
   "file_extension": ".py",
   "mimetype": "text/x-python",
   "name": "python",
   "nbconvert_exporter": "python",
   "pygments_lexer": "ipython3",
   "version": "3.10.9"
  }
 },
 "nbformat": 4,
 "nbformat_minor": 5
}

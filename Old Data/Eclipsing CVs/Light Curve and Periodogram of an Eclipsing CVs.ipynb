{
 "cells": [
  {
   "cell_type": "markdown",
   "id": "245333e4",
   "metadata": {},
   "source": [
    "## Light Curve and Periodogram of an Eclipsing CVs"
   ]
  },
  {
   "cell_type": "code",
   "execution_count": null,
   "id": "3cbdd937",
   "metadata": {},
   "outputs": [],
   "source": [
    "%matplotlib widget\n",
    "\n",
    "import numpy as np\n",
    "import matplotlib.pyplot as plt\n",
    "\n",
    "import lightkurve as lk"
   ]
  },
  {
   "cell_type": "code",
   "execution_count": null,
   "id": "2f6c8108",
   "metadata": {},
   "outputs": [],
   "source": [
    "# Specify the Eclipsing CVs: \n",
    "TIC = 'TIC 364173220'\n",
    "\n",
    "data_all = lk.search_lightcurve(TIC)\n",
    "\n",
    "data_all"
   ]
  },
  {
   "cell_type": "code",
   "execution_count": null,
   "id": "a1353598",
   "metadata": {},
   "outputs": [],
   "source": [
    "import matplotlib.pyplot as plt\n",
    "\n",
    "data = data_all[0:2]\n",
    "\n",
    "lc = data.download_all().stitch()\n",
    "\n",
    "#lc.to_csv('TIC236005060.csv')\n",
    "#lc.to_fits('TIC236005060.fits')\n",
    "\n",
    "p = lc.plot(linewidth = 0, marker = '.', color = 'k')\n",
    "\n",
    "plt.show()"
   ]
  },
  {
   "cell_type": "code",
   "execution_count": null,
   "id": "b9f1fb64",
   "metadata": {},
   "outputs": [],
   "source": [
    "import matplotlib.pyplot as plt\n",
    "\n",
    "data = data_all[9]\n",
    "\n",
    "lc = data.download_all().stitch()\n",
    "\n",
    "p = lc.plot(linewidth = 0, marker = '.', color = 'r')\n",
    "\n",
    "plt.show()"
   ]
  },
  {
   "cell_type": "code",
   "execution_count": null,
   "id": "529784fb",
   "metadata": {},
   "outputs": [],
   "source": [
    "import matplotlib.pyplot as plt\n",
    "\n",
    "data = data_all[8]\n",
    "\n",
    "lc = data.download_all().stitch()\n",
    "\n",
    "p = lc.plot(linewidth = 0, marker = '.', color = 'r')\n",
    "\n",
    "plt.show()"
   ]
  },
  {
   "cell_type": "code",
   "execution_count": null,
   "id": "85198328",
   "metadata": {},
   "outputs": [],
   "source": [
    "periodogram = lc.to_periodogram()\n",
    "\n",
    "fig_LS, ax_LS = plt.subplots(1,1,num=4)\n",
    "periodogram.plot(ax=ax_LS)\n",
    "ax_LS.set_xlabel(r'${\\rm Frequency~[c/d]}$', fontsize=14)\n",
    "ax_LS.set_ylabel(r'${\\rm Amplitude}$', fontsize=14)\n",
    "ax_LS.set_xlim(1, 350)\n",
    "# fig_LS.tight_layout()\n",
    "plt.show()"
   ]
  },
  {
   "cell_type": "code",
   "execution_count": null,
   "id": "33be765c",
   "metadata": {},
   "outputs": [],
   "source": [
    "#Second number gotten from the strongest peak of the Periodogram. Changed every time you have a new chart.\n",
    "period=1/7.75475010149055\n",
    "print(period)"
   ]
  },
  {
   "cell_type": "code",
   "execution_count": null,
   "id": "a768cff4",
   "metadata": {},
   "outputs": [],
   "source": [
    "0.247-.008"
   ]
  },
  {
   "cell_type": "code",
   "execution_count": null,
   "id": "146b9a63",
   "metadata": {},
   "outputs": [],
   "source": [
    "0.12895322053096062*24"
   ]
  },
  {
   "cell_type": "code",
   "execution_count": null,
   "id": "bbdb6547",
   "metadata": {},
   "outputs": [],
   "source": [
    "1/4.077"
   ]
  },
  {
   "cell_type": "code",
   "execution_count": null,
   "id": "604ad2b6",
   "metadata": {},
   "outputs": [],
   "source": [
    ".129*24"
   ]
  },
  {
   "cell_type": "code",
   "execution_count": null,
   "id": "3ee8b7e7",
   "metadata": {},
   "outputs": [],
   "source": []
  }
 ],
 "metadata": {
  "kernelspec": {
   "display_name": "Python 3 (ipykernel)",
   "language": "python",
   "name": "python3"
  },
  "language_info": {
   "codemirror_mode": {
    "name": "ipython",
    "version": 3
   },
   "file_extension": ".py",
   "mimetype": "text/x-python",
   "name": "python",
   "nbconvert_exporter": "python",
   "pygments_lexer": "ipython3",
   "version": "3.11.9"
  }
 },
 "nbformat": 4,
 "nbformat_minor": 5
}

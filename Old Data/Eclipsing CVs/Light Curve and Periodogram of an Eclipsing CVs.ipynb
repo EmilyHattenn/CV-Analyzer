{
 "cells": [
  {
   "cell_type": "markdown",
   "id": "245333e4",
   "metadata": {},
   "source": [
    "## Light Curve and Periodogram of an Eclipsing CVs"
   ]
  },
  {
   "cell_type": "code",
   "execution_count": null,
   "id": "3cbdd937",
   "metadata": {},
   "outputs": [],
   "source": [
    "%matplotlib widget\n",
    "\n",
    "import numpy as np\n",
    "import matplotlib.pyplot as plt\n",
    "\n",
    "import lightkurve as lk"
   ]
  },
  {
   "cell_type": "code",
   "execution_count": null,
   "id": "2f6c8108",
   "metadata": {},
   "outputs": [],
   "source": [
    "# Specify the Eclipsing CVs: \n",
    "TIC = 'TIC 236005060'\n",
    "\n",
    "data_all = lk.search_lightcurve(TIC)\n",
    "\n",
    "data_all"
   ]
  },
  {
   "cell_type": "code",
   "execution_count": null,
   "id": "a1353598",
   "metadata": {},
   "outputs": [],
   "source": [
    "import matplotlib.pyplot as plt\n",
    "\n",
    "data = data_all[3]\n",
    "\n",
    "lc = data.download_all().stitch()\n",
    "\n",
    "p = lc.plot(linewidth = 0, marker = '.', color = 'r')\n",
    "\n",
    "plt.show()"
   ]
  },
  {
   "cell_type": "code",
   "execution_count": null,
   "id": "b9f1fb64",
   "metadata": {},
   "outputs": [],
   "source": [
    "import matplotlib.pyplot as plt\n",
    "\n",
    "data = data_all[0]\n",
    "\n",
    "lc = data.download_all().stitch()\n",
    "\n",
    "p = lc.plot(linewidth = 0, marker = '.', color = 'r')\n",
    "\n",
    "plt.show()"
   ]
  },
  {
   "cell_type": "code",
   "execution_count": null,
   "id": "529784fb",
   "metadata": {},
   "outputs": [],
   "source": [
    "import matplotlib.pyplot as plt\n",
    "\n",
    "data = data_all[5]\n",
    "\n",
    "lc = data.download_all().stitch()\n",
    "\n",
    "p = lc.plot(linewidth = 0, marker = '.', color = 'r')\n",
    "\n",
    "plt.show()"
   ]
  },
  {
   "cell_type": "code",
   "execution_count": null,
   "id": "85198328",
   "metadata": {},
   "outputs": [],
   "source": [
    "periodogram = lc.to_periodogram()\n",
    "\n",
    "fig_LS, ax_LS = plt.subplots(1,1,num=4)\n",
    "periodogram.plot(ax=ax_LS)\n",
    "ax_LS.set_xlabel(r'${\\rm Frequency~[c/d]}$', fontsize=14)\n",
    "ax_LS.set_ylabel(r'${\\rm Amplitude}$', fontsize=14)\n",
    "ax_LS.set_xlim(1, 350)\n",
    "# fig_LS.tight_layout()\n",
    "plt.show()"
   ]
  },
  {
   "cell_type": "code",
   "execution_count": null,
   "id": "33be765c",
   "metadata": {},
   "outputs": [],
   "source": [
    "#Second number gotten from the strongest peak of the Periodogram. Changed every time you have a new chart.\n",
    "period=1/4.07866\n",
    "print(period)"
   ]
  },
  {
   "cell_type": "code",
   "execution_count": null,
   "id": "7b7b0249",
   "metadata": {},
   "outputs": [],
   "source": [
    "#Period and t0 (time 0) are in BTJD :)\n",
    "t0=2692.978"
   ]
  },
  {
   "cell_type": "code",
   "execution_count": null,
   "id": "6366ee0a",
   "metadata": {},
   "outputs": [],
   "source": [
    "1/0.357540410060"
   ]
  },
  {
   "cell_type": "code",
   "execution_count": null,
   "id": "1a8874b2",
   "metadata": {},
   "outputs": [],
   "source": [
    "0.12920614452740914*2"
   ]
  },
  {
   "cell_type": "code",
   "execution_count": null,
   "id": "906b5f7c",
   "metadata": {},
   "outputs": [],
   "source": [
    "24*0.2584122890548183"
   ]
  },
  {
   "cell_type": "code",
   "execution_count": null,
   "id": "977e4671",
   "metadata": {},
   "outputs": [],
   "source": [
    "24*0.24517856354783188"
   ]
  }
 ],
 "metadata": {
  "kernelspec": {
   "display_name": "Python 3 (ipykernel)",
   "language": "python",
   "name": "python3"
  },
  "language_info": {
   "codemirror_mode": {
    "name": "ipython",
    "version": 3
   },
   "file_extension": ".py",
   "mimetype": "text/x-python",
   "name": "python",
   "nbconvert_exporter": "python",
   "pygments_lexer": "ipython3",
   "version": "3.11.4"
  }
 },
 "nbformat": 4,
 "nbformat_minor": 5
}

{
 "cells": [
  {
   "cell_type": "code",
   "execution_count": null,
   "metadata": {},
   "outputs": [],
   "source": [
    "import math\n"
   ]
  },
  {
   "cell_type": "code",
   "execution_count": null,
   "metadata": {},
   "outputs": [],
   "source": [
    "#extinsion number\n",
    "ext = 0.3754\n",
    "#mean of B-V\n",
    "bv = 0.14956\n",
    "#b_V - ext\n",
    "B_V = bv - ext\n",
    "#standard deviation of B-V\n",
    "std = 0.24464\n",
    "B_Vmin = B_V - std\n",
    "B_Vmax = B_V + std\n",
    "T_effmean = (4600 / (0.92 * B_V + 1.7)) + (4600 / (0.92 * B_V + 0.62))\n",
    "print('Mean Temp:', T_effmean)\n",
    "T_effmax = (4600 / (0.92 * B_Vmin + 1.7)) + (4600 / (0.92 * B_Vmin + 0.62))\n",
    "print('Maximmum Temp:', T_effmax)\n",
    "T_effmin = (4600 / (0.92 * B_Vmax + 1.7)) + (4600 / (0.92 * B_Vmax + 0.62))\n",
    "print('Minimum Temp:', T_effmin)\n",
    "ran = T_effmax - T_effmin\n",
    "print('Range:', ran)"
   ]
  },
  {
   "cell_type": "code",
   "execution_count": null,
   "metadata": {},
   "outputs": [],
   "source": [
    "ext = 0 #It changes depending on the star\n",
    "m_V =\n",
    "m_R = \n",
    "V_R = (m_V - m_R) - ext\n",
    "    \n",
    "# Calculate the effective temperature using Ballesteros' formula\n",
    "log_T_eff = 3.988 - (0.881 * V_R) + (0.188 * (V_R)^2)\n",
    "T_eff = 10^(log_T_eff)\n",
    "temp = round(T_eff, 3))\n",
    "\n",
    "min_temp = min(temp)\n",
    "max_temp = max(temp)\n",
    "range_temp = round(max_temp - min_temp, 3)\n",
    "\n",
    "print(f\"Minimum Temperature: {min_temp} K\")\n",
    "print(f\"Maximum Temperature: {max_temp} K\")\n",
    "print(f\"Range of Temperature: {range_temp} K\")"
   ]
  }
 ],
 "metadata": {
  "kernelspec": {
   "display_name": "Python 3",
   "language": "python",
   "name": "python3"
  },
  "language_info": {
   "codemirror_mode": {
    "name": "ipython",
    "version": 3
   },
   "file_extension": ".py",
   "mimetype": "text/x-python",
   "name": "python",
   "nbconvert_exporter": "python",
   "pygments_lexer": "ipython3",
   "version": "3.12.1"
  }
 },
 "nbformat": 4,
 "nbformat_minor": 2
}

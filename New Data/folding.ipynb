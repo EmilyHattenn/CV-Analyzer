{
 "cells": [
  {
   "cell_type": "code",
   "execution_count": null,
   "metadata": {},
   "outputs": [],
   "source": [
    "%matplotlib widget\n",
    "import numpy as np\n",
    "import matplotlib.pyplot as plt\n",
    "from astropy.time import Time\n",
    "import lightkurve as lk\n",
    "from scipy.optimize import curve_fit\n",
    "import pandas as pd\n",
    "from scipy.interpolate import make_interp_spline as spline\n",
    "import math"
   ]
  },
  {
   "cell_type": "code",
   "execution_count": null,
   "metadata": {},
   "outputs": [],
   "source": [
    "#Getting the lightcurve\n",
    "TIC = 'TIC 3034524' \n",
    "data_all = lk.search_lightcurve(TIC, author='SPOC')\n",
    "data = data_all[0]\n",
    "lc = data.download_all().stitch()\n",
    "\n",
    "#Extracting flux data from the light curve into x, y\n",
    "Times = lc.time\n",
    "t = Time(Times)\n",
    "x = np.array(t.btjd)\n",
    "y = np.array(lc.flux)\n",
    "    \n",
    "# Remove invalid values (infs and NaNs) from y and x arrays\n",
    "mask_valid = ~np.isnan(y) & ~np.isinf(y)\n",
    "x = x[mask_valid]\n",
    "y = y[mask_valid]\n",
    "\n",
    "#converting x and y to pandas dataframe\n",
    "light_curve = pd.DataFrame({\n",
    "    'time': x,\n",
    "    'flux': y\n",
    "})"
   ]
  },
  {
   "cell_type": "code",
   "execution_count": null,
   "metadata": {},
   "outputs": [],
   "source": [
    "#Reads the fitted curve data \n",
    "\n",
    "fitted_curve = pd.read_csv('Data Files/fitted_curve.csv')\n",
    "fitted_curve.info()\n",
    "\n",
    "# Plot the fitted curve\n",
    "plt.figure()\n",
    "plt.plot(fitted_curve['x_fit'], fitted_curve['y_fit'], color='gray')"
   ]
  },
  {
   "cell_type": "code",
   "execution_count": null,
   "metadata": {},
   "outputs": [],
   "source": [
    "#FIND PEAKS\n",
    "from scipy.signal import find_peaks\n",
    "\n",
    "#invert the curve to find peaks\n",
    "fitted_curve['inverted_y_fit'] = -fitted_curve['y_fit']\n",
    "\n",
    "# Find peaks in the inverted_y_fit column\n",
    "peaks, _ = find_peaks(fitted_curve['inverted_y_fit'], )\n",
    "\n",
    "# Get the x_fit values corresponding to the peaks\n",
    "peak_x_values = fitted_curve['x_fit'][peaks]\n",
    "peak_x_values.reset_index(drop=True, inplace=True)\n",
    "\n",
    "# Print the peak x_fit values\n",
    "# print(peak_x_values)\n",
    "\n",
    "# Calculate the periods, convert to series\n",
    "periods = np.diff(peak_x_values)\n",
    "periods_series = pd.Series(periods)\n",
    "\n",
    "#Create a Dataframe with peaks and periods\n",
    "peaks_n_periods = pd.DataFrame({'Period': periods_series, 'Peak_x_value': peak_x_values})\n",
    "peaks_n_periods.info()"
   ]
  },
  {
   "cell_type": "markdown",
   "metadata": {},
   "source": [
    "We Have the following:\n",
    "\n",
    "`light_curve`: A pandas.DataFrame, has the lightcurve and all the raw data in columns `time` and `flux`\n",
    "\n",
    "`fitted_curve`: A pandas.DataFrame, has fitted Gaussian curve(s) with `x_fit`, `y_fit` & `inverted_y_fit`\n",
    "\n",
    "`peak_x_values`: This is a pandas.Series object with all the times of peaks.\n",
    "\n",
    "`periods`: An numpy.ndarray containing all the periods."
   ]
  },
  {
   "cell_type": "code",
   "execution_count": null,
   "metadata": {},
   "outputs": [],
   "source": [
    "#Plots the peaks as vertical lines\n",
    "plt.figure()\n",
    "plt.plot(fitted_curve['x_fit'], fitted_curve['y_fit'], color='gray')\n",
    "for x in peak_x_values:\n",
    "    plt.axvline(x=x, color='red', linestyle='--')"
   ]
  },
  {
   "cell_type": "code",
   "execution_count": null,
   "metadata": {},
   "outputs": [],
   "source": [
    "#DEPRACATED??\n",
    "#Get indices of the peaks\n",
    "start_index = 0\n",
    "i=1\n",
    "begins = []\n",
    "no_bins = 200\n",
    "\n",
    "for row in peaks_n_periods.iterrows():\n",
    "    period = row[1]['Period']\n",
    "    peak = row[1]['Peak_x_value']\n",
    "    bin_width = period/no_bins\n",
    "    bin_begin = Time(peak, scale='tdb', format='btjd')\n",
    "    print(bin_begin)\n",
    "    for bin in range(no_bins):\n",
    "        bin_end = bin_begin + bin_width\n",
    "        begin_index = np.searchsorted(lc.time, bin_begin, side='right')\n",
    "        end_index = np.searchsorted(lc.time, bin_end, side='right')\n",
    "        \n",
    "        # Get the flux values in the bin\n",
    "        flux_in_bin = lc.flux[begin_index:end_index]\n",
    "        print(len(flux_in_bin))\n",
    "        begins.append(bin_begin)\n",
    "        bin_begin = bin_end"
   ]
  },
  {
   "cell_type": "code",
   "execution_count": null,
   "metadata": {},
   "outputs": [],
   "source": [
    "from tqdm import tqdm\n",
    "starts = np.empty(32)\n",
    "ends = np.empty(32)\n",
    "i = 0\n",
    "\n",
    "for row in tqdm(peaks_n_periods.iterrows(), total=peak_x_values.shape[0]):\n",
    "    period = row[1]['Period']\n",
    "    peak = row[1]['Peak_x_value']\n",
    "    starts[i] = np.searchsorted(lc.time, Time(peak, scale='tdb', format='btjd'), side='right')\n",
    "    try:\n",
    "        ends[i] = np.searchsorted(lc.time, Time((peak + period), scale='tdb', format='btjd'), side='right')\n",
    "    except:\n",
    "        ends[i] = 0\n",
    "    i += 1\n",
    "\n",
    "new_peaks_n_periods = pd.DataFrame({\n",
    "    'Period' : peaks_n_periods['Period'],\n",
    "    'Peak' : peaks_n_periods['Peak_x_value'],\n",
    "    'Start' : pd.Series(starts),\n",
    "    'End' : pd.Series(ends)\n",
    "})\n"
   ]
  },
  {
   "cell_type": "code",
   "execution_count": null,
   "metadata": {},
   "outputs": [],
   "source": [
    "plt.figure()\n",
    "light_curveee = light_curve[199:384]\n",
    "\n",
    "plt.scatter(light_curveee['time'], light_curveee['flux'], marker='.', color='black')\n",
    "plt.show()"
   ]
  },
  {
   "cell_type": "code",
   "execution_count": null,
   "metadata": {},
   "outputs": [],
   "source": [
    "no_bins = 200\n",
    "sums = np.zeros(no_bins)\n",
    "counts = np.zeros(no_bins)"
   ]
  },
  {
   "cell_type": "code",
   "execution_count": null,
   "metadata": {},
   "outputs": [],
   "source": [
    "#trying???\n",
    "\n",
    "for row in tqdm(new_peaks_n_periods.iterrows(), total=new_peaks_n_periods.shape[0]):\n",
    "    p = row[1]['Period']\n",
    "    begin = row[1]['Peak']\n",
    "    light = light_curve.copy(deep=True)[int(row[1]['Start']):int(row[1]['End'])]\n",
    "    for light_row in tqdm(light.iterrows(), total = light.shape[0]):\n",
    "        bin_number = math.floor(  (    (light_row[1]['time'] - begin)   /  p   ) * no_bins )\n",
    "        sums[bin_number] += light_row[1]['flux']\n",
    "        counts[bin_number] += 1\n",
    "\n",
    "    "
   ]
  },
  {
   "cell_type": "code",
   "execution_count": null,
   "metadata": {},
   "outputs": [],
   "source": [
    "means = sums / counts\n",
    "m = list(means)\n",
    "\n",
    "m = m + m[0: int((0.2 * len(m)))]\n",
    "\n",
    "import matplotlib.pyplot as plt\n",
    "\n",
    "# Assuming 'm' is the list you want to plot\n",
    "plt.figure()\n",
    "plt.plot(m[int((0.2 * len(m))):])\n",
    "plt.xlabel('Index')\n",
    "plt.ylabel('Value')\n",
    "plt.title('Plot of List m')\n",
    "plt.show()"
   ]
  },
  {
   "cell_type": "markdown",
   "metadata": {},
   "source": [
    "Made changes."
   ]
  },
  {
   "cell_type": "code",
   "execution_count": null,
   "metadata": {},
   "outputs": [],
   "source": [
    "for x in begins:\n",
    "    plt.axvline(x=x.btjd, color='green', linestyle='--')"
   ]
  },
  {
   "cell_type": "code",
   "execution_count": null,
   "metadata": {},
   "outputs": [],
   "source": [
    "lc.time"
   ]
  },
  {
   "cell_type": "code",
   "execution_count": null,
   "metadata": {},
   "outputs": [],
   "source": [
    "bin_num = 10\n",
    "\n",
    "bin_width = (2-1)/bin_num\n",
    "\n",
    "initial = 1\n",
    "\n",
    "for i in range(bin_num):\n",
    "    nx = bin_width + initial\n",
    "    #add all the ones inside\n",
    "    initial = nx\n",
    "\n",
    "initial\n"
   ]
  },
  {
   "cell_type": "code",
   "execution_count": null,
   "metadata": {},
   "outputs": [],
   "source": []
  }
 ],
 "metadata": {
  "kernelspec": {
   "display_name": "Python 3",
   "language": "python",
   "name": "python3"
  },
  "language_info": {
   "codemirror_mode": {
    "name": "ipython",
    "version": 3
   },
   "file_extension": ".py",
   "mimetype": "text/x-python",
   "name": "python",
   "nbconvert_exporter": "python",
   "pygments_lexer": "ipython3",
   "version": "3.11.9"
  }
 },
 "nbformat": 4,
 "nbformat_minor": 2
}

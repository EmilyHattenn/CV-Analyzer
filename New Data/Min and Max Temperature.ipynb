{
 "cells": [
  {
   "cell_type": "code",
   "execution_count": 4,
   "metadata": {},
   "outputs": [],
   "source": [
    "%matplotlib widget\n",
    "\n",
    "import pandas as pd\n",
    "import numpy as np\n",
    "import matplotlib.pyplot as plt\n",
    "import csv\n",
    "from datetime import datetime, timedelta\n",
    "import os"
   ]
  },
  {
   "cell_type": "code",
   "execution_count": 5,
   "metadata": {},
   "outputs": [
    {
     "name": "stdout",
     "output_type": "stream",
     "text": [
      "Minimum Temperature: 4004.673 K\n",
      "Maximum Temperature: 12789.736 K\n",
      "Range of Temperature: 8785.063 K\n"
     ]
    },
    {
     "name": "stderr",
     "output_type": "stream",
     "text": [
      "<>:30: SyntaxWarning: invalid escape sequence '\\A'\n",
      "<>:30: SyntaxWarning: invalid escape sequence '\\A'\n",
      "C:\\Users\\eshat\\AppData\\Local\\Temp\\ipykernel_14324\\3458164769.py:30: SyntaxWarning: invalid escape sequence '\\A'\n",
      "  file_path = os.path.join(folder, 'Data Files\\AH Her.csv')\n"
     ]
    }
   ],
   "source": [
    "'''\n",
    "TEMPERATURE WITH V AND B FILTERS\n",
    "'''\n",
    "import csv\n",
    "\n",
    "def calculate_star_temperature(m_B, m_V):\n",
    "    # Calculate the color indices\n",
    "    \n",
    "    ext = 0.0427 #It changes depending on the star\n",
    "    B_V = (m_B - m_V) - ext\n",
    "    \n",
    "    # Calculate the effective temperature using Ballesteros' formula\n",
    "    T_eff = (4600 / (0.92 * B_V + 1.7)) + (4600 / (0.92 * B_V + 0.62))\n",
    "    return round(T_eff, 3)\n",
    "\n",
    "def process_temperatures_from_file(file_path):\n",
    "    temperatures = []\n",
    "    with open(file_path, newline='') as csvfile:\n",
    "        reader = csv.DictReader(csvfile)\n",
    "        \n",
    "        for i, row in enumerate(reader):\n",
    "            m_B = float(row['m_B'])\n",
    "            m_V = float(row['m_V'])\n",
    "            T_eff = calculate_star_temperature(m_B, m_V)\n",
    "            temperatures.append(T_eff)\n",
    "    return temperatures\n",
    "\n",
    "#It changes depending on the star\n",
    "folder = '.'\n",
    "file_path = os.path.join(folder, 'Data Files\\AH Her.csv')\n",
    "\n",
    "temperatures = process_temperatures_from_file(file_path)\n",
    "\n",
    "min_temp = min(temperatures)\n",
    "max_temp = max(temperatures)\n",
    "range_temp = round(max_temp - min_temp, 3)\n",
    "\n",
    "print(f\"Minimum Temperature: {min_temp} K\")\n",
    "print(f\"Maximum Temperature: {max_temp} K\")\n",
    "print(f\"Range of Temperature: {range_temp} K\")"
   ]
  },
  {
   "cell_type": "code",
   "execution_count": 7,
   "metadata": {},
   "outputs": [
    {
     "name": "stderr",
     "output_type": "stream",
     "text": [
      "<>:31: SyntaxWarning: invalid escape sequence '\\A'\n",
      "<>:31: SyntaxWarning: invalid escape sequence '\\A'\n",
      "C:\\Users\\eshat\\AppData\\Local\\Temp\\ipykernel_14324\\1298329234.py:31: SyntaxWarning: invalid escape sequence '\\A'\n",
      "  file_path = os.path.join(folder, 'Data Files\\AH Her.csv')\n"
     ]
    },
    {
     "ename": "KeyError",
     "evalue": "'m_R'",
     "output_type": "error",
     "traceback": [
      "\u001b[1;31m---------------------------------------------------------------------------\u001b[0m",
      "\u001b[1;31mKeyError\u001b[0m                                  Traceback (most recent call last)",
      "Cell \u001b[1;32mIn[7], line 34\u001b[0m\n\u001b[0;32m     30\u001b[0m folder \u001b[38;5;241m=\u001b[39m \u001b[38;5;124m'\u001b[39m\u001b[38;5;124m.\u001b[39m\u001b[38;5;124m'\u001b[39m\n\u001b[0;32m     31\u001b[0m file_path \u001b[38;5;241m=\u001b[39m os\u001b[38;5;241m.\u001b[39mpath\u001b[38;5;241m.\u001b[39mjoin(folder, \u001b[38;5;124m'\u001b[39m\u001b[38;5;124mData Files\u001b[39m\u001b[38;5;124m\\\u001b[39m\u001b[38;5;124mAH Her.csv\u001b[39m\u001b[38;5;124m'\u001b[39m)\n\u001b[1;32m---> 34\u001b[0m temperatures \u001b[38;5;241m=\u001b[39m \u001b[43mprocess_temperatures_from_file\u001b[49m\u001b[43m(\u001b[49m\u001b[43mfile_path\u001b[49m\u001b[43m)\u001b[49m\n\u001b[0;32m     36\u001b[0m min_temp \u001b[38;5;241m=\u001b[39m \u001b[38;5;28mmin\u001b[39m(temperatures)\n\u001b[0;32m     37\u001b[0m max_temp \u001b[38;5;241m=\u001b[39m \u001b[38;5;28mmax\u001b[39m(temperatures)\n",
      "Cell \u001b[1;32mIn[7], line 23\u001b[0m, in \u001b[0;36mprocess_temperatures_from_file\u001b[1;34m(file_path)\u001b[0m\n\u001b[0;32m     20\u001b[0m reader \u001b[38;5;241m=\u001b[39m csv\u001b[38;5;241m.\u001b[39mDictReader(csvfile)\n\u001b[0;32m     22\u001b[0m \u001b[38;5;28;01mfor\u001b[39;00m i, row \u001b[38;5;129;01min\u001b[39;00m \u001b[38;5;28menumerate\u001b[39m(reader):\n\u001b[1;32m---> 23\u001b[0m     m_R \u001b[38;5;241m=\u001b[39m \u001b[38;5;28mfloat\u001b[39m(\u001b[43mrow\u001b[49m\u001b[43m[\u001b[49m\u001b[38;5;124;43m'\u001b[39;49m\u001b[38;5;124;43mm_R\u001b[39;49m\u001b[38;5;124;43m'\u001b[39;49m\u001b[43m]\u001b[49m)\n\u001b[0;32m     24\u001b[0m     m_V \u001b[38;5;241m=\u001b[39m \u001b[38;5;28mfloat\u001b[39m(row[\u001b[38;5;124m'\u001b[39m\u001b[38;5;124mm_V\u001b[39m\u001b[38;5;124m'\u001b[39m])\n\u001b[0;32m     25\u001b[0m     T_eff \u001b[38;5;241m=\u001b[39m calculate_star_temperature(m_V, m_R)\n",
      "\u001b[1;31mKeyError\u001b[0m: 'm_R'"
     ]
    }
   ],
   "source": [
    "'''\n",
    "TEMPERATURE WITH V AND R FILTERS\n",
    "'''\n",
    "import csv\n",
    "\n",
    "def calculate_star_temperature(m_V, m_R):\n",
    "    # Calculate the color indices\n",
    "    \n",
    "    ext = 0 #It changes depending on the star\n",
    "    V_R = (m_V - m_R) - ext\n",
    "    \n",
    "    # Calculate the effective temperature using Ballesteros' formula\n",
    "    log_T_eff = 3.988 - (0.881 * V_R) + (0.188 * (V_R)^2)\n",
    "    T_eff = 10^(log_T_eff)\n",
    "    return round(T_eff, 3)\n",
    "\n",
    "def process_temperatures_from_file(file_path):\n",
    "    temperatures = []\n",
    "    with open(file_path, newline='') as csvfile:\n",
    "        reader = csv.DictReader(csvfile)\n",
    "        \n",
    "        for i, row in enumerate(reader):\n",
    "            m_R = float(row['m_R'])\n",
    "            m_V = float(row['m_V'])\n",
    "            T_eff = calculate_star_temperature(m_V, m_R)\n",
    "            temperatures.append(T_eff)\n",
    "    return temperatures\n",
    "\n",
    "#It changes depending on the star\n",
    "folder = '.'\n",
    "file_path = os.path.join(folder, 'Data Files\\AH Her.csv')\n",
    "\n",
    "\n",
    "temperatures = process_temperatures_from_file(file_path)\n",
    "\n",
    "min_temp = min(temperatures)\n",
    "max_temp = max(temperatures)\n",
    "range_temp = round(max_temp - min_temp, 3)\n",
    "\n",
    "print(f\"Minimum Temperature: {min_temp} K\")\n",
    "print(f\"Maximum Temperature: {max_temp} K\")\n",
    "print(f\"Range of Temperature: {range_temp} K\")"
   ]
  }
 ],
 "metadata": {
  "kernelspec": {
   "display_name": "Python 3",
   "language": "python",
   "name": "python3"
  },
  "language_info": {
   "codemirror_mode": {
    "name": "ipython",
    "version": 3
   },
   "file_extension": ".py",
   "mimetype": "text/x-python",
   "name": "python",
   "nbconvert_exporter": "python",
   "pygments_lexer": "ipython3",
   "version": "3.12.1"
  }
 },
 "nbformat": 4,
 "nbformat_minor": 2
}

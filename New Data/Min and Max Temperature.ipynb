{
 "cells": [
  {
   "cell_type": "code",
   "execution_count": null,
   "metadata": {},
   "outputs": [],
   "source": [
    "%matplotlib widget\n",
    "\n",
    "import pandas as pd\n",
    "import numpy as np\n",
    "import matplotlib.pyplot as plt\n",
    "import csv\n",
    "from datetime import datetime, timedelta"
   ]
  },
  {
   "cell_type": "code",
   "execution_count": null,
   "metadata": {},
   "outputs": [],
   "source": [
    "import csv\n",
    "\n",
    "def calculate_star_temperature(m_B, m_V):\n",
    "    # Calculate the color indices\n",
    "    \n",
    "    ext = 0.0317 #It changes depending on the star\n",
    "    B_V = (m_B - m_V) - ext\n",
    "    \n",
    "    # Calculate the effective temperature using Ballesteros' formula\n",
    "    T_eff = (4600 / (0.92 * B_V + 1.7)) + (4600 / (0.92 * B_V + 0.62))\n",
    "    return round(T_eff, 3)\n",
    "\n",
    "def process_temperatures_from_file(file_path):\n",
    "    temperatures = []\n",
    "    with open(file_path, newline='') as csvfile:\n",
    "        reader = csv.DictReader(csvfile)\n",
    "        \n",
    "        for i, row in enumerate(reader):\n",
    "            m_B = float(row['m_B'])\n",
    "            m_V = float(row['m_V'])\n",
    "            T_eff = calculate_star_temperature(m_B, m_V)\n",
    "            temperatures.append(T_eff)\n",
    "    return temperatures\n",
    "\n",
    "#It changes depending on the star\n",
    "file_path = '/Users/valegarcia/Downloads/SDSS j100658.40+233724.4.csv'\n",
    "\n",
    "temperatures = process_temperatures_from_file(file_path)\n",
    "\n",
    "min_temp = min(temperatures)\n",
    "max_temp = max(temperatures)\n",
    "range_temp = round(max_temp - min_temp, 3)\n",
    "\n",
    "print(f\"Minimum Temperature: {min_temp} K\")\n",
    "print(f\"Maximum Temperature: {max_temp} K\")\n",
    "print(f\"Range of Temperature: {range_temp} K\")"
   ]
  },
  {
   "cell_type": "code",
   "execution_count": null,
   "metadata": {},
   "outputs": [],
   "source": []
  }
 ],
 "metadata": {
  "kernelspec": {
   "display_name": "Python 3",
   "language": "python",
   "name": "python3"
  },
  "language_info": {
   "codemirror_mode": {
    "name": "ipython",
    "version": 3
   },
   "file_extension": ".py",
   "mimetype": "text/x-python",
   "name": "python",
   "nbconvert_exporter": "python",
   "pygments_lexer": "ipython3",
   "version": "3.11.9"
  }
 },
 "nbformat": 4,
 "nbformat_minor": 2
}

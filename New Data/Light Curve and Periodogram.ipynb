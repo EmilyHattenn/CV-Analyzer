{
 "cells": [
  {
   "cell_type": "code",
   "execution_count": null,
   "metadata": {},
   "outputs": [],
   "source": [
    "%matplotlib widget\n",
    "\n",
    "import numpy as np\n",
    "import matplotlib.pyplot as plt\n",
    "import os\n",
    "\n",
    "import lightkurve as lk"
   ]
  },
  {
   "cell_type": "code",
   "execution_count": null,
   "metadata": {},
   "outputs": [],
   "source": [
    "import pandas as pd\n",
    "\n",
    "folder = '.'\n",
    "file_path = os.path.join(folder, 'Data Files/Eclipsing CVs.csv')\n",
    "df = pd.read_csv(file_path)\n",
    "\n",
    "df.dtypes"
   ]
  },
  {
   "cell_type": "code",
   "execution_count": null,
   "metadata": {},
   "outputs": [],
   "source": [
    "for i in df['TIC ID']:\n",
    "    try:\n",
    "        int(i)\n",
    "        print(lk.search_lightcurve(f'TIC {i}'))\n",
    "    except:\n",
    "        pass"
   ]
  },
  {
   "cell_type": "code",
   "execution_count": null,
   "metadata": {},
   "outputs": [],
   "source": [
    "# Specify the Eclipsing CVs: \n",
    "TIC = 'TIC 219107776'\n",
    "\n",
    "data_all = lk.search_lightcurve(TIC, author='SPOC', cadence='short')\n",
    "\n",
    "data_all"
   ]
  },
  {
   "cell_type": "code",
   "execution_count": null,
   "metadata": {},
   "outputs": [],
   "source": [
    "data_all[0]"
   ]
  },
  {
   "cell_type": "code",
   "execution_count": null,
   "metadata": {},
   "outputs": [],
   "source": [
    "data = data_all[0]\n",
    "\n",
    "lc = data.download_all().stitch()\n",
    "\n",
    "p = lc.plot(linewidth = 0.5, marker = '.', color = 'r')\n",
    "\n",
    "plt.show()"
   ]
  },
  {
   "cell_type": "code",
   "execution_count": null,
   "metadata": {},
   "outputs": [],
   "source": [
    "lc.to_timeseries()"
   ]
  },
  {
   "cell_type": "code",
   "execution_count": null,
   "metadata": {},
   "outputs": [],
   "source": [
    "lc.flux"
   ]
  },
  {
   "cell_type": "code",
   "execution_count": null,
   "metadata": {},
   "outputs": [],
   "source": [
    "import pandas as pd\n",
    "\n",
    "file_path = '/Users/mridul/Desktop/Physics Research Summer/CV-Analyzer/New Data/TIC 219107776.csv'\n",
    "df = pd.read_csv(file_path)\n",
    "\n",
    "plot = df.plot(x = 'cadenceno', y = 'pdcsap_flux', color = 'r')"
   ]
  },
  {
   "cell_type": "code",
   "execution_count": null,
   "metadata": {},
   "outputs": [],
   "source": [
    "import pandas as pd\n",
    "\n",
    "file_path = '/Users/mridul/Desktop/Physics Research Summer/CV-Analyzer/New Data/TIC 219107776.csv'\n",
    "df = pd.read_csv(file_path)\n",
    "\n",
    "plot = df.plot(x = 'time', y = 'flux', color = 'r')"
   ]
  },
  {
   "cell_type": "code",
   "execution_count": null,
   "metadata": {},
   "outputs": [],
   "source": [
    "df.to_csv('/Users/mridul/Desktop/Physics Research Summer/CV-Analyzer/New Data/TIC 219107776 big.csv', index = False)\n",
    "print(df.columns)\n",
    "\n",
    "dataframe = df[['time', 'flux']]\n",
    "\n",
    "dataframe.to_csv('/Users/mridul/Desktop/Physics Research Summer/CV-Analyzer/New Data/TIC 219107776 small.csv', index = False)"
   ]
  },
  {
   "cell_type": "code",
   "execution_count": null,
   "metadata": {},
   "outputs": [],
   "source": [
    "import numpy as np\n",
    "from scipy.optimize import curve_fit\n",
    "\n",
    "# Define the cosine function\n",
    "def cosine_func(x, amplitude, frequency, phase):\n",
    "    return amplitude * np.cos(2 * np.pi * frequency * x + phase)\n",
    "\n",
    "# Extract the x and y data from the plot\n",
    "x_data = plot.get_lines()[0].get_xdata()\n",
    "y_data = plot.get_lines()[0].get_ydata()\n",
    "\n",
    "# Perform the curve fitting\n",
    "popt, pcov = curve_fit(cosine_func, x_data, y_data)\n",
    "\n",
    "# Extract the optimized parameters\n",
    "amplitude_opt = popt[0]\n",
    "frequency_opt = popt[1]\n",
    "phase_opt = popt[2]\n",
    "\n",
    "# Generate the fitted curve\n",
    "x_fit = np.linspace(min(x_data), max(x_data), 100)\n",
    "y_fit = cosine_func(x_fit, amplitude_opt, frequency_opt, phase_opt)\n",
    "\n",
    "plt.figure()\n",
    "# Plot the fitted curve\n",
    "plot.plot(x_fit, y_fit, color='red')\n",
    "\n",
    "# Show the plot\n",
    "plt.show()"
   ]
  },
  {
   "cell_type": "code",
   "execution_count": null,
   "metadata": {},
   "outputs": [],
   "source": [
    "periodogram = lc.to_periodogram()\n",
    "\n",
    "fig_LS, ax_LS = plt.subplots(1,1,num=4)\n",
    "periodogram.plot(ax=ax_LS)\n",
    "ax_LS.set_xlabel(r'${\\rm Frequency~[c/d]}$', fontsize=14)\n",
    "ax_LS.set_ylabel(r'${\\rm Amplitude}$', fontsize=14)\n",
    "ax_LS.set_xlim(0, 350)\n",
    "#fig_LS.tight_layout()\n",
    "plt.show()"
   ]
  }
 ],
 "metadata": {
  "kernelspec": {
   "display_name": "Python 3",
   "language": "python",
   "name": "python3"
  },
  "language_info": {
   "codemirror_mode": {
    "name": "ipython",
    "version": 3
   },
   "file_extension": ".py",
   "mimetype": "text/x-python",
   "name": "python",
   "nbconvert_exporter": "python",
   "pygments_lexer": "ipython3",
   "version": "3.12.1"
  }
 },
 "nbformat": 4,
 "nbformat_minor": 2
}

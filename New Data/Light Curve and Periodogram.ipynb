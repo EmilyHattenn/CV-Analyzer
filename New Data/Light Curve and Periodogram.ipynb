{
 "cells": [
  {
   "cell_type": "code",
   "execution_count": null,
   "metadata": {},
   "outputs": [],
   "source": [
    "%matplotlib widget\n",
    "\n",
    "import numpy as np\n",
    "import matplotlib.pyplot as plt\n",
    "\n",
    "import lightkurve as lk"
   ]
  },
  {
   "cell_type": "code",
   "execution_count": null,
   "metadata": {},
   "outputs": [],
   "source": [
    "import pandas as pd\n",
    "\n",
    "file_path = \"/Users/mridul/Desktop/Physics Research Summer/CV-Analyzer/New Data/Data Files/Eclipsing CVs.csv\"\n",
    "df = pd.read_csv(file_path)\n",
    "\n",
    "df.dtypes"
   ]
  },
  {
   "cell_type": "code",
   "execution_count": null,
   "metadata": {},
   "outputs": [],
   "source": [
    "for i in df['TIC ID']:\n",
    "    try:\n",
    "        int(i)\n",
    "        print(lk.search_lightcurve(f'TIC {i}'))\n",
    "    except:\n",
    "        pass"
   ]
  },
  {
   "cell_type": "code",
   "execution_count": null,
   "metadata": {},
   "outputs": [],
   "source": [
    "# Specify the Eclipsing CVs: \n",
    "TIC = 'TIC 219107776'\n",
    "\n",
    "data_all = lk.search_lightcurve(TIC, author='SPOC', cadence='short')\n",
    "\n",
    "data_all"
   ]
  },
  {
   "cell_type": "code",
   "execution_count": null,
   "metadata": {},
   "outputs": [],
   "source": [
    "data = data_all[0]\n",
    "\n",
    "lc = data_all.download_all().stitch()\n",
    "\n",
    "p = lc.plot(linewidth = 0, marker = '.', color = 'r')\n",
    "\n",
    "plt.show()"
   ]
  },
  {
   "cell_type": "code",
   "execution_count": null,
   "metadata": {
    "vscode": {
     "languageId": "r"
    }
   },
   "outputs": [],
   "source": [
    "periodogram = lc.to_periodogram()\n",
    "\n",
    "fig_LS, ax_LS = plt.subplots(1,1,num=4)\n",
    "periodogram.plot(ax=ax_LS)\n",
    "ax_LS.set_xlabel(r'${\\rm Frequency~[c/d]}$', fontsize=14)\n",
    "ax_LS.set_ylabel(r'${\\rm Amplitude}$', fontsize=14)\n",
    "ax_LS.set_xlim(0, 350)\n",
    "# fig_LS.tight_layout()\n",
    "plt.show()"
   ]
  },
  {
   "cell_type": "code",
   "execution_count": null,
   "metadata": {},
   "outputs": [],
   "source": []
  }
 ],
 "metadata": {
  "kernelspec": {
   "display_name": "Python 3",
   "language": "python",
   "name": "python3"
  },
  "language_info": {
   "codemirror_mode": {
    "name": "ipython",
    "version": 3
   },
   "file_extension": ".py",
   "mimetype": "text/x-python",
   "name": "python",
   "nbconvert_exporter": "python",
   "pygments_lexer": "ipython3",
   "version": "3.11.4"
  }
 },
 "nbformat": 4,
 "nbformat_minor": 2
}

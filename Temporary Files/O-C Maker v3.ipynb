{
 "cells": [
  {
   "cell_type": "code",
   "execution_count": null,
   "metadata": {},
   "outputs": [],
   "source": [
    "%matplotlib widget\n",
    "import matplotlib.pyplot as plt\n",
    "import numpy as np\n",
    "import pandas as pd\n",
    "import lightkurve as lk\n",
    "from modules import *\n",
    "from astropy.table import Table\n",
    "import scipy.signal as signal\n",
    "import scipy.optimize as optimize\n",
    "\n",
    "plt.style.use('seaborn-v0_8-darkgrid')\n",
    "\n",
    "TIC = 'TIC 219107776'"
   ]
  },
  {
   "cell_type": "code",
   "execution_count": null,
   "metadata": {},
   "outputs": [],
   "source": [
    "lcs = get_lightcurves(TIC, author = 'SPOC', cadence='short', use_till=30)"
   ]
  },
  {
   "cell_type": "code",
   "execution_count": null,
   "metadata": {},
   "outputs": [],
   "source": [
    "new_lcs = []\n",
    "\n",
    "for lc in lcs:\n",
    "    df = pd.DataFrame({'time': lc.time.jd, 'flux': np.array(lc.flux, dtype='f')}).dropna(inplace=False)\n",
    "    new_lc = lk.LightCurve(time= df['time'], flux= df['flux'])\n",
    "    new_lc = apply_savgol_filter(new_lc.time.jd, new_lc.flux, want = 'lc', displaygraphs= False, window_length_for_remove=1500)\n",
    "    new_lc = straight_lines(new_lc, cadence_magnifier= 10)\n",
    "    new_lcs.append(new_lc)\n",
    "    new_lc.plot()"
   ]
  },
  {
   "cell_type": "code",
   "execution_count": null,
   "metadata": {},
   "outputs": [],
   "source": [
    "lightcurve = combine_lightcurves(new_lcs)"
   ]
  },
  {
   "cell_type": "code",
   "execution_count": null,
   "metadata": {},
   "outputs": [],
   "source": [
    "periodogram = lightcurve.to_periodogram(maximum_frequency = 50)\n",
    "periodogram.plot()"
   ]
  },
  {
   "cell_type": "code",
   "execution_count": null,
   "metadata": {},
   "outputs": [],
   "source": [
    "lightcurve.plot()"
   ]
  },
  {
   "cell_type": "code",
   "execution_count": null,
   "metadata": {},
   "outputs": [],
   "source": [
    "periodogram.plot()"
   ]
  },
  {
   "cell_type": "code",
   "execution_count": null,
   "metadata": {},
   "outputs": [],
   "source": [
    "frequencies = periodogram.frequency.value\n",
    "power = periodogram.power.value\n",
    "\n",
    "def gaussian(x, amp, cen, wid):\n",
    "    return amp * np.exp(-(x - cen)**2 / (2 * wid**2))\n",
    "\n",
    "pd.DataFrame({'frequencies': frequencies, 'power': power})\n",
    "\n",
    "peaks, pdict = signal.find_peaks(power, height=60)\n",
    "\n",
    "print(peaks[0])\n",
    "\n",
    "print(frequencies[peaks][0])\n",
    "\n",
    "print(pdict['peak_heights'][0])\n",
    "\n",
    "1/(lightcurve.time.btjd[-1] - lightcurve.time.btjd[0])\n",
    "\n",
    "initial_guess = [pdict['peak_heights'][0], frequencies[peaks][0], 0.5/(lightcurve.time.btjd[-1] - lightcurve.time.btjd[0])]\n",
    "\n",
    "optimized_parameters, covariance = optimize.curve_fit(gaussian, frequencies, power, p0=initial_guess)\n",
    "\n",
    "amp, cen, wid = optimized_parameters\n",
    "\n",
    "f = np.linspace(frequencies.min(), frequencies.max(), 1000000)\n",
    "\n",
    "fitted_gaussian = gaussian(f, amp, cen, wid)\n",
    "\n",
    "another_gaussian = gaussian(f, pdict['peak_heights'][0], frequencies[peaks][0], 0.5/(lightcurve.time.btjd[-1] - lightcurve.time.btjd[0]))\n",
    "\n",
    "plt.figure(figsize=(10, 5))\n",
    "plt.plot(frequencies, power, label='Periodogram', marker='o', markersize=1, alpha=0.5, color='black')\n",
    "plt.plot(f, fitted_gaussian, label='Fitted Gaussian', color='red')\n",
    "plt.plot(f, another_gaussian, label='Another Gaussian', color='blue')\n",
    "\n",
    "print(f'Amplitude: {amp}')\n",
    "print(f'Central Frequency: {cen}')\n",
    "print(f'Standard Deviation: {wid}')\n"
   ]
  },
  {
   "cell_type": "code",
   "execution_count": null,
   "metadata": {},
   "outputs": [],
   "source": [
    "def sin_fit(x, amp, freq, phase, offset):\n",
    "    return amp * np.sin(2 * np.pi * freq * (x - phase)) + offset\n",
    "\n",
    "t = lightcurve.time.btjd\n",
    "f = lightcurve.flux\n",
    "\n",
    "s = sin_fit(t, 100, cen, 0.0611, -100)\n",
    "\n",
    "ax = lightcurve.plot()\n",
    "ax.plot(t, s, color='red')"
   ]
  },
  {
   "cell_type": "code",
   "execution_count": null,
   "metadata": {},
   "outputs": [],
   "source": [
    "bin_num = 200\n",
    "period = 1/cen\n",
    "lightcurve.fold(period).bin(time_bin_size = period/bin_num).scatter()"
   ]
  },
  {
   "cell_type": "code",
   "execution_count": null,
   "metadata": {},
   "outputs": [],
   "source": [
    "l = get_lightcurves(TIC, author = 'SPOC', cadence='short', use_till=2)\n",
    "l[0].fold(period).bin(time_bin_size = 0.0005).scatter()"
   ]
  }
 ],
 "metadata": {
  "kernelspec": {
   "display_name": "Python 3",
   "language": "python",
   "name": "python3"
  },
  "language_info": {
   "codemirror_mode": {
    "name": "ipython",
    "version": 3
   },
   "file_extension": ".py",
   "mimetype": "text/x-python",
   "name": "python",
   "nbconvert_exporter": "python",
   "pygments_lexer": "ipython3",
   "version": "3.11.9"
  }
 },
 "nbformat": 4,
 "nbformat_minor": 2
}

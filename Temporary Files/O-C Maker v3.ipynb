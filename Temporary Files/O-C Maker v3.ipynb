{
 "cells": [
  {
   "cell_type": "code",
   "execution_count": null,
   "metadata": {},
   "outputs": [],
   "source": [
    "%matplotlib widget\n",
    "import matplotlib.pyplot as plt\n",
    "import numpy as np\n",
    "import pandas as pd\n",
    "import lightkurve as lk\n",
    "from modules import *\n",
    "from astropy.table import Table\n",
    "import scipy.signal as signal\n",
    "import scipy.optimize as optimize\n",
    "import plotly.express as px\n",
    "import plotly.graph_objects as go\n",
    "import plotly.io as pio\n",
    "from tqdm import tqdm\n",
    "\n",
    "plt.style.use('seaborn-v0_8-darkgrid')\n",
    "\n",
    "TIC = 'TIC 219107776'"
   ]
  },
  {
   "cell_type": "code",
   "execution_count": null,
   "metadata": {},
   "outputs": [],
   "source": [
    "lcs = get_lightcurves(TIC, author = 'SPOC', cadence='short', use_till=10)"
   ]
  },
  {
   "cell_type": "code",
   "execution_count": null,
   "metadata": {},
   "outputs": [],
   "source": [
    "new_lcs = []\n",
    "\n",
    "for lc in lcs:\n",
    "    df = pd.DataFrame({'time': lc.time.jd, 'flux': np.array(lc.flux, dtype='f')}).dropna(inplace=False)\n",
    "    new_lc = lk.LightCurve(time= df['time'], flux= df['flux'])\n",
    "    new_lc = apply_savgol_filter(new_lc.time.jd, new_lc.flux, want = 'lc', displaygraphs= False, window_length_for_remove=1500)\n",
    "    new_lc = straight_lines(new_lc, cadence_magnifier= 10)\n",
    "    new_lcs.append(new_lc)\n",
    "    # new_lc.plot()"
   ]
  },
  {
   "cell_type": "code",
   "execution_count": null,
   "metadata": {},
   "outputs": [],
   "source": [
    "lightcurve = combine_lightcurves(new_lcs)\n",
    "lightcurve.plot()"
   ]
  },
  {
   "cell_type": "code",
   "execution_count": null,
   "metadata": {},
   "outputs": [],
   "source": [
    "new_lightcurve = straight_lines(lightcurve, cadence_magnifier= 1)\n",
    "axess = new_lightcurve.plot()\n",
    "lightcurve.plot(ax= axess, color= 'red')\n",
    "\n",
    "print(pd.DataFrame({'time': new_lightcurve.time.jd, 'flux': new_lightcurve.flux}).info())\n",
    "print(pd.DataFrame({'time': lightcurve.time.jd, 'flux': lightcurve.flux}).info())\n"
   ]
  },
  {
   "cell_type": "markdown",
   "metadata": {},
   "source": [
    "FINDING THE PERIOD\n",
    "-------------\n",
    "\n",
    "The next section here finds the period to be used for O-C calculations as well as for folding.\n",
    "A gaussian curve is fit on a Periodogram that is obtained from the desired `lightcurve`.\n",
    "\n",
    "Please click on the desired peak to make the program process data, the peak should be the tallest peak in the entire mess of principle peak.\n",
    "\n",
    "PS: Clicking on a point draws a gaussian which is selected for the O-C calculations. If you missed_click, just click on the right point afterwards and it will draw a curve in a different color, allowing you to choose another point."
   ]
  },
  {
   "cell_type": "code",
   "execution_count": null,
   "metadata": {},
   "outputs": [],
   "source": [
    "periodogram = lightcurve.to_periodogram(maximum_frequency = 30)\n",
    "\n",
    "peak_width = 1 / ( (lightcurve.time.btjd[-1] - lightcurve.time.btjd[0]) * 2)\n",
    "print(peak_width)\n",
    "max_power = periodogram.max_power.value\n",
    "optimized_parameters_global = []\n",
    "\n",
    "colors = ['red', 'green', 'purple', 'orange', 'yellow', 'pink', 'brown', 'magenta', 'cyan']\n",
    "def color_change():\n",
    "    c = colors.pop(0)\n",
    "    colors.append(c)\n",
    "    yield c\n",
    "\n",
    "frequencies = periodogram.frequency.value\n",
    "power = periodogram.power.value\n",
    "f = np.linspace(frequencies.min(), frequencies.max(), 1000000)\n",
    "p = spline(frequencies, power, k = 3)(f)\n",
    "\n",
    "peaks, peakdict = signal.find_peaks(p, height = max_power/10)\n",
    "peaks_df = pd.DataFrame({'frequencies': f[peaks], 'power': p[peaks], 'peak_index': peaks})\n",
    "\n",
    "fi = go.FigureWidget([\n",
    "    go.Scatter(x=f[peaks], y=p[peaks], mode = 'markers', name = 'Peaks', marker = {\n",
    "        'symbol': 'x',\n",
    "        'size': 7,\n",
    "    }),\n",
    "    go.Scatter(x=frequencies, y=power, mode='lines', name = 'Periodogram', line = dict(color='black')),\n",
    "], layout = go.Layout(title = 'Periodogram Peaks', xaxis_title = 'Frequency [1/d]', yaxis_title = 'Power'))\n",
    "\n",
    "scatter = fi.data[0]\n",
    "fi.layout.hovermode = 'closest'\n",
    "\n",
    "def update_point(trace, points, selector):\n",
    "    for i in points.point_inds:\n",
    "        initial_guess = [peaks_df['power'][i], peaks_df['frequencies'][i], peak_width]\n",
    "        optimized_parameters, covariance = optimize.curve_fit(gaussian, frequencies, power, p0=initial_guess)\n",
    "        amp, cen, wid = optimized_parameters\n",
    "\n",
    "        fitted_gaussian = gaussian(frequencies, amp, cen, wid)\n",
    "        initial_gaussian = gaussian(frequencies, *initial_guess)\n",
    "\n",
    "        fi.add_trace(go.Scatter(x=frequencies, y=fitted_gaussian, mode='lines', name='Fitted Gaussian', line=dict(color=next(color_change()))))\n",
    "        fi.add_trace(go.Scatter(x=frequencies, y=initial_gaussian, mode='lines', name='Initial Gaussian', line=dict(color=next(color_change()))))\n",
    "        optimized_parameters_global.append(optimized_parameters)\n",
    "        print(optimized_parameters_global[-1])\n",
    "    \n",
    "scatter.on_click(update_point)\n",
    "fi\n"
   ]
  },
  {
   "cell_type": "code",
   "execution_count": null,
   "metadata": {},
   "outputs": [],
   "source": [
    "try:\n",
    "    fitted_frequency = optimized_parameters_global[-1][1]\n",
    "    fitted_period = 1/fitted_frequency\n",
    "except:\n",
    "    raise ValueError('No peaks clicked yet, please click on a peak to fit a gaussian to it.')\n",
    "\n",
    "print(f'Fitted Frequency: {fitted_frequency}')\n",
    "print(f'Fitted Period: {fitted_period}')"
   ]
  },
  {
   "cell_type": "code",
   "execution_count": null,
   "metadata": {},
   "outputs": [],
   "source": [
    "lightcurve_df = pd.DataFrame({'time': lightcurve.time.btjd, 'flux': np.array(lightcurve.flux, dtype='f')})\n",
    "curr_initial_time = lightcurve_df['time'].iloc[0]\n",
    "curr_end_time = curr_initial_time + fitted_period\n",
    "\n",
    "chunks = []\n",
    "\n",
    "for i in tqdm(range(2000)):\n",
    "    if curr_end_time > lightcurve_df['time'].iloc[-1]:\n",
    "        break\n",
    "    else:\n",
    "        chunk = lightcurve_df[(lightcurve_df['time'] >= curr_initial_time) & (lightcurve_df['time'] <= curr_end_time)]\n",
    "        curr_initial_time = curr_end_time\n",
    "        curr_end_time = curr_initial_time + fitted_period\n",
    "        plt.figure(num = 1, figsize=(10, 5))\n",
    "        plt.plot(chunk['time'], chunk['flux'], lw=0.5)\n",
    "        # plt.savefig(f'Chunks/{i}.png')\n",
    "        chunks.append(chunk)\n"
   ]
  },
  {
   "cell_type": "code",
   "execution_count": null,
   "metadata": {},
   "outputs": [],
   "source": [
    "l = get_lightcurves(TIC, author = 'SPOC', cadence='short', use_till=2)\n",
    "l[0].fold(fitted_period).bin(time_bin_size = 0.0005).scatter()"
   ]
  }
 ],
 "metadata": {
  "kernelspec": {
   "display_name": "Python 3 (ipykernel)",
   "language": "python",
   "name": "python3"
  },
  "language_info": {
   "codemirror_mode": {
    "name": "ipython",
    "version": 3
   },
   "file_extension": ".py",
   "mimetype": "text/x-python",
   "name": "python",
   "nbconvert_exporter": "python",
   "pygments_lexer": "ipython3",
   "version": "3.11.9"
  }
 },
 "nbformat": 4,
 "nbformat_minor": 4
}

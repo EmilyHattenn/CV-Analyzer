{
 "cells": [
  {
   "cell_type": "code",
   "execution_count": 1,
   "metadata": {},
   "outputs": [],
   "source": [
    "%matplotlib widget\n",
    "import matplotlib.pyplot as plt\n",
    "import numpy as np\n",
    "import pandas as pd\n",
    "import lightkurve as lk\n",
    "from modules import *\n",
    "from astropy.table import Table\n",
    "import scipy.signal as signal\n",
    "import scipy.optimize as optimize\n",
    "import plotly.express as px\n",
    "import plotly.graph_objects as go\n",
    "import plotly.io as pio\n",
    "from tqdm import tqdm\n",
    "\n",
    "plt.style.use('seaborn-v0_8-darkgrid')\n",
    "\n",
    "TIC = 'TIC 219107776'\n",
    "\n",
    "cadence_magnifier = 10\n",
    "cadence = 120"
   ]
  },
  {
   "cell_type": "markdown",
   "metadata": {},
   "source": [
    "PREPARING THE DATA\n",
    "-------------\n",
    "\n",
    "This section downloads the desired lightcurves and performs some preliminary operations on them. The operations are:\n",
    "\n",
    "- Removing the NaNs\n",
    "- Removing the big features (like outbursts, etc.)\n",
    "- Interpolating (or increasing the cadence of) the lightcurves"
   ]
  },
  {
   "cell_type": "code",
   "execution_count": 4,
   "metadata": {},
   "outputs": [
    {
     "name": "stdout",
     "output_type": "stream",
     "text": [
      "SearchResult containing 5 data products.\n",
      "\n",
      " #     mission     year author exptime target_name distance\n",
      "                                  s                 arcsec \n",
      "--- -------------- ---- ------ ------- ----------- --------\n",
      "  0 TESS Sector 14 2019   SPOC     120   219107776      0.0\n",
      "  1 TESS Sector 15 2019   SPOC     120   219107776      0.0\n",
      "  2 TESS Sector 16 2019   SPOC     120   219107776      0.0\n",
      "  3 TESS Sector 17 2019   SPOC     120   219107776      0.0\n",
      "  4 TESS Sector 18 2019   SPOC     120   219107776      0.0\n"
     ]
    }
   ],
   "source": [
    "lcs = get_lightcurves(TIC, author = 'SPOC', cadence='short', use_till=5)"
   ]
  },
  {
   "cell_type": "code",
   "execution_count": 3,
   "metadata": {},
   "outputs": [
    {
     "name": "stdout",
     "output_type": "stream",
     "text": [
      "<class 'pandas.core.frame.DataFrame'>\n",
      "RangeIndex: 86002 entries, 0 to 86001\n",
      "Data columns (total 2 columns):\n",
      " #   Column  Non-Null Count  Dtype  \n",
      "---  ------  --------------  -----  \n",
      " 0   time    86002 non-null  float64\n",
      " 1   flux    74645 non-null  float32\n",
      "dtypes: float32(1), float64(1)\n",
      "memory usage: 1008.0 KB\n",
      "None\n",
      "Index       132\n",
      "time     688016\n",
      "flux     344008\n",
      "dtype: int64\n"
     ]
    }
   ],
   "source": [
    "lcs = get_lightcurves(TIC, author = 'SPOC', cadence='short', use_till=10)"
   ]
  },
  {
   "cell_type": "code",
   "execution_count": 5,
   "metadata": {},
   "outputs": [
    {
     "name": "stdout",
     "output_type": "stream",
     "text": [
      "Gaps at times: [1696.38854348]\n",
      "Gaps at times: [1721.58580465]\n",
      "Gaps at times: [1748.68724642]\n",
      "Gaps at times: [1773.58173744]\n",
      "Gaps at times: [1791.10954097 1800.4581543 ]\n"
     ]
    }
   ],
   "source": [
    "#Preparing the Lightcurves for analysis\n",
    "new_lcs = []\n",
    "\n",
    "for lc in lcs:\n",
    "    #Removing Nans from the Lightcurves\n",
    "    df = pd.DataFrame({'time': lc.time.jd, 'flux': np.array(lc.flux, dtype='f')}).dropna(inplace=False)\n",
    "    new_lc = lk.LightCurve(time= df['time'], flux= df['flux'])\n",
    "\n",
    "    #new_lc = lc.remove_nans()                  #Potential alternative solution\n",
    "    \n",
    "    #Removing the big trends AND increasing the cadence.\n",
    "    new_lc = apply_savgol_filter(new_lc.time.jd, new_lc.flux, want = 'lc', displaygraphs= False, window_length_for_remove=900)\n",
    "    new_lc = spline_while_jumping_gaps(new_lc, cadence_magnifier= 10)\n",
    "\n",
    "    #Storing away the adjusted & splined curve\n",
    "    new_lcs.append(new_lc)\n",
    "    # new_lc.plot()"
   ]
  },
  {
   "cell_type": "code",
   "execution_count": null,
   "metadata": {},
   "outputs": [],
   "source": [
    "lightcurve = combine_lightcurves(new_lcs)\n",
    "lightcurve.plot()"
   ]
  },
  {
   "cell_type": "code",
   "execution_count": null,
   "metadata": {},
   "outputs": [],
   "source": [
    "#Fill the gaps with straight lines\n",
    "new_lightcurve = straight_lines(lightcurve, cadence_magnifier= 1)\n",
    "axess = new_lightcurve.plot()\n",
    "lightcurve.plot(ax= axess, color= 'red')"
   ]
  },
  {
   "cell_type": "markdown",
   "metadata": {},
   "source": [
    "FINDING THE PERIOD\n",
    "-------------\n",
    "\n",
    "The next section here finds the period to be used for O-C calculations as well as for folding.\n",
    "A gaussian curve is fit on a Periodogram that is obtained from the desired `lightcurve`.\n",
    "\n",
    "Please click on the desired peak to make the program process data, the peak should be the tallest peak in the entire mess of principle peak.\n",
    "\n",
    "PS: Clicking on a point draws a gaussian which is selected for the O-C calculations. If you miss-clicked, just click on the right point afterwards and it will draw a curve in a different color, allowing you to choose another point."
   ]
  },
  {
   "cell_type": "code",
   "execution_count": 7,
   "metadata": {},
   "outputs": [
    {
     "name": "stdout",
     "output_type": "stream",
     "text": [
      "0.00383950301758526\n"
     ]
    },
    {
     "data": {
      "application/vnd.jupyter.widget-view+json": {
       "model_id": "c39ab63c158a4479a4b698d3fb6d8ad6",
       "version_major": 2,
       "version_minor": 0
      },
      "text/plain": [
       "FigureWidget({\n",
       "    'data': [{'marker': {'size': 7, 'symbol': 'x'},\n",
       "              'mode': 'markers',\n",
       "              'name': 'Peaks',\n",
       "              'type': 'scatter',\n",
       "              'uid': '46661a53-83cc-4e97-bdc2-0140e5c9640d',\n",
       "              'x': array([ 4.53373774,  4.57243426,  4.60729112,  4.6407681 ,  4.64979729,\n",
       "                           4.66101628,  4.68030455,  4.6908336 ,  4.70136265,  4.71105178,\n",
       "                           4.72269073,  4.73309979,  4.74290891,  4.75208808,  4.76333707,\n",
       "                           4.77455606,  4.78379523,  4.79351435,  4.80398341,  4.81544238,\n",
       "                           4.8251615 ,  4.83536058,  4.84573965,  4.87795675,  4.91779316,\n",
       "                           4.93327177,  4.95315998,  4.96767867,  5.00835501,  9.29643893,\n",
       "                           9.37308203,  9.41078863,  9.45353478,  9.46406384,  9.48752172,\n",
       "                           9.49841074,  9.50737994,  9.51583917,  9.5266082 ,  9.53743723,\n",
       "                           9.54586647,  9.55489566,  9.56476477,  9.58921257,  9.59950164,\n",
       "                           9.67938445,  9.77225609, 14.13668313, 14.21758585, 14.24986294,\n",
       "                          14.27020111, 14.27890033, 14.28999933, 14.30106833, 14.30991754,\n",
       "                          14.33022571, 14.36244281, 14.44277557, 18.89935432, 18.980737  ,\n",
       "                          19.01325407, 19.03350225, 19.04232145, 19.05333046, 19.06439946,\n",
       "                          19.07300869, 19.09337685, 19.12586393, 23.81666159, 28.57996272]),\n",
       "              'y': array([ 9.67352463, 11.73995141, 15.4372591 , 10.0788619 , 15.34769615,\n",
       "                           9.39623527, 14.22101998, 22.32848958, 17.27682526, 16.19699735,\n",
       "                          40.37917069, 16.60376631, 22.54988889, 19.79344751, 67.24091919,\n",
       "                          19.94597483, 21.15301745, 16.24524251, 38.19740807, 15.02371863,\n",
       "                          17.92356364, 18.91723547, 14.21787846, 15.34442546, 16.03777357,\n",
       "                          12.18728738, 11.6341717 , 16.82009424, 14.31486238,  9.51787998,\n",
       "                          16.92431376, 10.68289962, 22.53697546, 11.98632599, 18.17938207,\n",
       "                          13.18215711, 19.35155008, 22.47237244, 91.02452645, 23.57733286,\n",
       "                          19.26265846, 11.49730793, 17.4890502 , 11.35885562, 19.20311754,\n",
       "                          16.13828001, 11.5141507 ,  9.71600915, 11.72468667, 17.82299471,\n",
       "                          11.5526908 , 11.65624059, 45.8436286 , 12.0275773 , 11.42785225,\n",
       "                          17.61015132, 11.76797073,  9.22229126,  9.18241285, 10.77373331,\n",
       "                          14.80277215, 10.30338393, 11.42137845, 43.27239651, 11.05347759,\n",
       "                          10.35989128, 14.85339773, 10.77267508, 26.35641119, 21.89256715])},\n",
       "             {'line': {'color': 'black'},\n",
       "              'mode': 'lines',\n",
       "              'name': 'Periodogram',\n",
       "              'type': 'scatter',\n",
       "              'uid': 'f5b9931f-22a8-4963-981d-125af70ffae1',\n",
       "              'x': array([1.53580121e-03, 3.07160241e-03, 4.60740362e-03, ..., 2.99957334e+01,\n",
       "                          2.99972692e+01, 2.99988050e+01]),\n",
       "              'y': array([0.06113147, 0.04658598, 0.01772506, ..., 0.14003287, 0.06802419,\n",
       "                          0.01120641])}],\n",
       "    'layout': {'hovermode': 'closest',\n",
       "               'template': '...',\n",
       "               'title': {'text': 'Periodogram Peaks'},\n",
       "               'xaxis': {'title': {'text': 'Frequency [1/d]'}},\n",
       "               'yaxis': {'title': {'text': 'Power'}}}\n",
       "})"
      ]
     },
     "execution_count": 7,
     "metadata": {},
     "output_type": "execute_result"
    },
    {
     "name": "stdout",
     "output_type": "stream",
     "text": [
      "[6.46117982e+01 4.76334350e+00 4.40685883e-03]\n",
      "[6.46117982e+01 4.76334350e+00 4.40685883e-03]\n"
     ]
    }
   ],
   "source": [
    "periodogram = lightcurve.to_periodogram(maximum_frequency = 30)\n",
    "\n",
    "peak_width = 1 / ( (lightcurve.time.btjd[-1] - lightcurve.time.btjd[0]) * 2)\n",
    "print(peak_width)\n",
    "max_power = periodogram.max_power.value\n",
    "optimized_parameters_global = []\n",
    "\n",
    "colors = ['red', 'green', 'purple', 'orange', 'yellow', 'pink', 'brown', 'magenta', 'cyan']\n",
    "def color_change():\n",
    "    c = colors.pop(0)\n",
    "    colors.append(c)\n",
    "    yield c\n",
    "\n",
    "frequencies = periodogram.frequency.value\n",
    "power = periodogram.power.value\n",
    "f = np.linspace(frequencies.min(), frequencies.max(), 1000000)\n",
    "p = spline(frequencies, power, k = 3)(f)\n",
    "\n",
    "peaks, peakdict = signal.find_peaks(p, height = max_power/10)\n",
    "peaks_df = pd.DataFrame({'frequencies': f[peaks], 'power': p[peaks], 'peak_index': peaks})\n",
    "\n",
    "fi = go.FigureWidget([\n",
    "    go.Scatter(x=f[peaks], y=p[peaks], mode = 'markers', name = 'Peaks', marker = {\n",
    "        'symbol': 'x',\n",
    "        'size': 7,\n",
    "    }),\n",
    "    go.Scatter(x=frequencies, y=power, mode='lines', name = 'Periodogram', line = dict(color='black')),\n",
    "], layout = go.Layout(title = 'Periodogram Peaks', xaxis_title = 'Frequency [1/d]', yaxis_title = 'Power'))\n",
    "\n",
    "scatter = fi.data[0]\n",
    "fi.layout.hovermode = 'closest'\n",
    "\n",
    "def update_point(trace, points, selector):\n",
    "    for i in points.point_inds:\n",
    "        initial_guess = [peaks_df['power'][i], peaks_df['frequencies'][i], peak_width]\n",
    "        optimized_parameters, covariance = optimize.curve_fit(gaussian, frequencies, power, p0=initial_guess)\n",
    "        amp, cen, wid = optimized_parameters\n",
    "\n",
    "        fitted_gaussian = gaussian(frequencies, amp, cen, wid)\n",
    "        initial_gaussian = gaussian(frequencies, *initial_guess)\n",
    "\n",
    "        fi.add_trace(go.Scatter(x=frequencies, y=fitted_gaussian, mode='lines', name='Fitted Gaussian', line=dict(color=next(color_change()))))\n",
    "        fi.add_trace(go.Scatter(x=frequencies, y=initial_gaussian, mode='lines', name='Initial Gaussian', line=dict(color=next(color_change()))))\n",
    "        optimized_parameters_global.append(optimized_parameters)\n",
    "        print(optimized_parameters_global[-1])\n",
    "    \n",
    "scatter.on_click(update_point)\n",
    "fi\n"
   ]
  },
  {
   "cell_type": "code",
   "execution_count": 9,
   "metadata": {},
   "outputs": [
    {
     "name": "stdout",
     "output_type": "stream",
     "text": [
      "Fitted Frequency: 4.763343500735466\n",
      "Fitted Period: 0.2099365707817626\n"
     ]
    }
   ],
   "source": [
    "try:\n",
    "    fitted_frequency = optimized_parameters_global[-1][1]\n",
    "    fitted_period = 1/fitted_frequency\n",
    "except:\n",
    "    raise ValueError('No peaks clicked yet, please click on a peak to fit a gaussian to it.')\n",
    "\n",
    "print(f'Fitted Frequency: {fitted_frequency}')\n",
    "print(f'Fitted Period: {fitted_period}')"
   ]
  },
  {
   "cell_type": "markdown",
   "metadata": {},
   "source": [
    "DIVIDING INTO CHUNKS\n",
    "----------\n",
    "\n",
    "Next part of the code divides the lightcurve into chunks and also removes any chunks that have less that 90% of the average number of values."
   ]
  },
  {
   "cell_type": "code",
   "execution_count": 17,
   "metadata": {},
   "outputs": [
    {
     "name": "stderr",
     "output_type": "stream",
     "text": [
      " 31%|███       | 620/2000 [00:01<00:02, 587.09it/s]\n"
     ]
    }
   ],
   "source": [
    "#Dividing the lightcurve into chunks, the size of a chunk is the fitted period.\n",
    "lightcurve_df = pd.DataFrame({'time': lightcurve.time.btjd, 'flux': np.array(lightcurve.flux, dtype='f')})\n",
    "curr_initial_time = lightcurve_df['time'].iloc[0]\n",
    "curr_end_time = curr_initial_time + fitted_period\n",
    "\n",
    "chunks = []\n",
    "\n",
    "for i in tqdm(range(2000)):\n",
    "    if curr_end_time > lightcurve_df['time'].iloc[-1]:\n",
    "        break\n",
    "    else:\n",
    "\n",
    "        #Only the timestamps between initial_time and end_time are stored inside a chunk.\n",
    "        chunk = lightcurve_df[(lightcurve_df['time'] >= curr_initial_time) & (lightcurve_df['time'] < curr_end_time)]\n",
    "        curr_initial_time = curr_end_time\n",
    "        curr_end_time = curr_initial_time + fitted_period\n",
    "        plt.figure(num = 2, figsize=(10, 5))\n",
    "        plt.plot(chunk['time'], chunk['flux'], lw=0.5)\n",
    "        # plt.savefig(f'Chunks/{i}.png')\n",
    "        chunks.append(chunk)\n"
   ]
  },
  {
   "cell_type": "code",
   "execution_count": null,
   "metadata": {},
   "outputs": [],
   "source": [
    "l = get_lightcurves(TIC, author = 'SPOC', cadence='short', use_till=2)\n",
    "l[0].fold(fitted_period).bin(time_bin_size = 0.0005).scatter()"
   ]
  },
  {
   "cell_type": "code",
   "execution_count": null,
   "metadata": {},
   "outputs": [],
   "source": [
    "pd.DataFrame({\n",
    "    'chunk' : chunks,\n",
    "    'chunk_number' : [i for i in range(len(chunks))],\n",
    "    'chunk_len' : [len(chunk) for chunk in chunks],\n",
    "}).to_csv('chunks.csv', index=False)"
   ]
  },
  {
   "cell_type": "code",
   "execution_count": null,
   "metadata": {},
   "outputs": [],
   "source": [
    "for i, chunk in tqdm(enumerate(chunks[:50])):\n",
    "    plt.figure(num = 2, figsize=(10, 5))\n",
    "    plt.plot(chunk['time'], chunk['flux'], lw=0.5)\n",
    "    plt.savefig(f'ChunksAgain/{i}.png')\n",
    "    plt.close()"
   ]
  },
  {
   "cell_type": "code",
   "execution_count": null,
   "metadata": {},
   "outputs": [],
   "source": []
  }
 ],
 "metadata": {
  "kernelspec": {
   "display_name": "Python 3 (ipykernel)",
   "language": "python",
   "name": "python3"
  },
  "language_info": {
   "codemirror_mode": {
    "name": "ipython",
    "version": 3
   },
   "file_extension": ".py",
   "mimetype": "text/x-python",
   "name": "python",
   "nbconvert_exporter": "python",
   "pygments_lexer": "ipython3",
   "version": "3.11.9"
  }
 },
 "nbformat": 4,
 "nbformat_minor": 4
}

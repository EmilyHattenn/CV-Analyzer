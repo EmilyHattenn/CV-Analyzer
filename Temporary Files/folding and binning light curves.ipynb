{
 "cells": [
  {
   "cell_type": "code",
   "execution_count": null,
   "metadata": {},
   "outputs": [],
   "source": [
    "%matplotlib widget\n",
    "import matplotlib.pyplot as plt\n",
    "import numpy as np\n",
    "import pandas as pd\n",
    "import lightkurve as lk\n",
    "from modules import *\n",
    "from astropy.table import Table\n",
    "import scipy.signal as signal\n",
    "import scipy.optimize as optimize\n",
    "from scipy.signal import savgol_filter\n",
    "\n",
    "plt.style.use('seaborn-v0_8-darkgrid')\n",
    "\n",
    "TIC = 'TIC 61285257'\n",
    "lcs = get_lightcurves(TIC, author = 'SPOC', cadence='short', use_till=1)"
   ]
  },
  {
   "cell_type": "code",
   "execution_count": null,
   "metadata": {},
   "outputs": [],
   "source": [
    "new_lcs = []\n",
    "\n",
    "for lc in lcs:\n",
    "    df = pd.DataFrame({'time': lc.time.jd, 'flux': np.array(lc.flux, dtype='f')}).dropna(inplace=False)\n",
    "    new_lc = lk.LightCurve(time= df['time'], flux= df['flux'])\n",
    "    new_lc = apply_savgol_filter(new_lc.time.jd, new_lc.flux, want = 'lc', displaygraphs= False, window_length_for_remove=1500)\n",
    "    new_lc = straight_lines(new_lc, cadence_magnifier= 20)\n",
    "    new_lcs.append(new_lc)\n",
    "\n",
    "lightcurve = combine_lightcurves(new_lcs)\n",
    "lightcurve.plot()"
   ]
  },
  {
   "cell_type": "code",
   "execution_count": null,
   "metadata": {},
   "outputs": [],
   "source": [
    "periodogram = lightcurve.to_periodogram(maximum_frequency = 50)\n",
    "periodogram.plot()"
   ]
  },
  {
   "cell_type": "code",
   "execution_count": null,
   "metadata": {},
   "outputs": [],
   "source": [
    "period = 1 / 4.264051779\n",
    "t0 = 1900.09422143\n",
    "\n",
    "lc_phased = lightcurve.fold(period=period, epoch_time=t0)\n",
    "\n",
    "lc_phased_binned = lc_phased.bin(1/24/60)\n",
    "\n",
    "fig, ax = plt.subplots(figsize = (8,5))\n",
    "\n",
    "lc_phased.plot(ax = ax, marker = '.', linewidth = 0, color = 'orange', alpha = 0.2, markersize = 3, label = 'unbinned')\n",
    "lc_phased_binned.plot(ax = ax, marker = '.', linewidth = 0, color = 'k', alpha = 0.8, markersize = 6, label = 'binned')\n",
    "\n",
    "ax.legend()\n",
    "ax.set_xlabel('Phase')\n",
    "ax.set_ylabel('Flux')\n",
    "ax.set_title('Phased Light Curve')\n",
    "plt.show()"
   ]
  },
  {
   "cell_type": "code",
   "execution_count": null,
   "metadata": {},
   "outputs": [],
   "source": [
    "import numpy as np\n",
    "from scipy.signal import savgol_filter\n",
    "import matplotlib.pyplot as plt\n",
    "\n",
    "window_length = 51 \n",
    "polyorder = 3     \n",
    "\n",
    "lc_binned_smoothed = savgol_filter(lc_phased_binned.flux.value, window_length, polyorder)\n",
    "\n",
    "fig, ax = plt.subplots(figsize=(8, 5))\n",
    "\n",
    "ax.plot(lc_phased_binned.time.value, lc_binned_smoothed, color='k', linewidth=2, label='smoothed')\n",
    "ax.set_xlabel('Phase')\n",
    "ax.set_ylabel('Flux')\n",
    "\n"
   ]
  },
  {
   "cell_type": "code",
   "execution_count": null,
   "metadata": {},
   "outputs": [],
   "source": []
  }
 ],
 "metadata": {
  "kernelspec": {
   "display_name": "Python 3",
   "language": "python",
   "name": "python3"
  },
  "language_info": {
   "codemirror_mode": {
    "name": "ipython",
    "version": 3
   },
   "file_extension": ".py",
   "mimetype": "text/x-python",
   "name": "python",
   "nbconvert_exporter": "python",
   "pygments_lexer": "ipython3",
   "version": "3.11.9"
  }
 },
 "nbformat": 4,
 "nbformat_minor": 2
}

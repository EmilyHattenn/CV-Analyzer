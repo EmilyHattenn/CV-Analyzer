{
 "cells": [
  {
   "cell_type": "code",
   "execution_count": null,
   "metadata": {},
   "outputs": [],
   "source": [
    "#Import and declare TIC\n",
    "\n",
    "%matplotlib widget\n",
    "import matplotlib.pyplot as plt\n",
    "import numpy as np\n",
    "import pandas as pd\n",
    "import lightkurve as lk\n",
    "from scipy.interpolate import make_interp_spline as spline\n",
    "import scipy.signal as signal\n",
    "import matplotlib\n",
    "from modules import *\n",
    "from scipy.optimize import curve_fit\n",
    "\n",
    "plt.style.use('seaborn-v0_8-darkgrid')\n",
    "\n",
    "TIC = 'TIC 61285257'"
   ]
  },
  {
   "cell_type": "code",
   "execution_count": null,
   "metadata": {},
   "outputs": [],
   "source": [
    "#Download the data and stitch it together\n",
    "\n",
    "search_results = lk.search_lightcurve(TIC, cadence='short', author='SPOC')\n",
    "print(search_results)\n",
    "\n",
    "#Enter the data index to be used                                                                                        [INPUT NEEDED]\n",
    "use_till = 5\n",
    "start = 0\n",
    "end = 1\n",
    "lcs = []\n",
    "for i in range(start, end):\n",
    "    try:\n",
    "        lcs.append(search_results[i].download(quality_bitmask='hardest'))\n",
    "    except:\n",
    "        pass"
   ]
  },
  {
   "cell_type": "code",
   "execution_count": null,
   "metadata": {},
   "outputs": [],
   "source": [
    "time_interval = 1\n",
    "\n",
    "times = [np.array(x.time.btjd) for x in lcs]\n",
    "cadence_multiplier = 86400/(np.median(np.diff(times[0][0:100])) * 86400).round()\n",
    "olds = [x[0] for x in times]\n",
    "times = [(x - x[0]) * cadence_multiplier for x in times]\n",
    "times = [x.round(0) for x in times]\n",
    "fluxes = [np.array(x.flux, dtype=float) for x in lcs]\n",
    "\n",
    "min_times = [x[0] for x in times]\n",
    "max_times = [x[-1] for x in times]\n",
    "full_times = [np.arange(x, y + time_interval, time_interval) for x, y in zip(min_times, max_times)]\n",
    "savgols = []\n",
    "\n",
    "for i in range(len(times)):\n",
    "    #Filling in missing times with nans, and then interpolating gaps with staright lines\n",
    "    df = pd.DataFrame({'Time':times[i], 'Flux':fluxes[i]})\n",
    "    df.set_index('Time', inplace=True)\n",
    "    df = df.reindex(full_times[i])\n",
    "    df['Flux'] = df['Flux'].interpolate(method='linear')\n",
    "    df.reset_index(inplace=True)\n",
    "    df.rename(columns={'index':'Time'}, inplace=True)\n",
    "    df['Time'] = (df['Time'] / cadence_multiplier) + olds[i] + 2457000\n",
    "    df.dropna(inplace=True)\n",
    "    df.reset_index(inplace=True)\n",
    "\n",
    "    #Interpolating using spline\n",
    "    time_smooth = np.linspace(df['Time'].min(), df['Time'].max(), len(df['Time']) * 4)\n",
    "    spl = spline(df['Time'], df['Flux'], k=3)\n",
    "    flux_smooth = spl(time_smooth)\n",
    "\n",
    "    #Applying the savgol filter\n",
    "    del df\n",
    "    df = pd.DataFrame({'time':time_smooth, 'flux':flux_smooth})\n",
    "    df = apply_savgol_filter(df['time'], df['flux'])\n",
    "    savgols.append(df)"
   ]
  },
  {
   "cell_type": "code",
   "execution_count": null,
   "metadata": {},
   "outputs": [],
   "source": [
    "corrected_df = pd.concat(savgols, ignore_index=True)\n",
    "corrected_df.info()\n",
    "\n",
    "\n",
    "def sin_fit(x, amp, freq, phase, offset):\n",
    "    return amp * np.sin(2 * np.pi * freq * (x - phase)) + offset\n",
    "\n",
    "time = corrected_df['time'].values\n",
    "flux = corrected_df['flux'].values\n",
    "\n",
    "s = sin_fit(time, 20, 3.33, 0, -10)\n",
    "\n",
    "plt.figure(figsize=(10, 5))\n",
    "plt.plot(time, flux, 'k', label='Light Curve Data', linewidth = 0.4)\n",
    "plt.plot(time, s, 'r-', label='Sinusoidal Fit', linewidth = 0.8)\n",
    "plt.xlabel('Time')\n",
    "plt.ylabel('Flux')\n",
    "plt.legend()\n",
    "plt.show()"
   ]
  },
  {
   "cell_type": "code",
   "execution_count": null,
   "metadata": {},
   "outputs": [],
   "source": [
    "691-611"
   ]
  },
  {
   "cell_type": "code",
   "execution_count": null,
   "metadata": {},
   "outputs": [],
   "source": [
    "0.763662-0.7630"
   ]
  },
  {
   "cell_type": "code",
   "execution_count": null,
   "metadata": {},
   "outputs": [],
   "source": []
  }
 ],
 "metadata": {
  "kernelspec": {
   "display_name": "Python 3",
   "language": "python",
   "name": "python3"
  },
  "language_info": {
   "codemirror_mode": {
    "name": "ipython",
    "version": 3
   },
   "file_extension": ".py",
   "mimetype": "text/x-python",
   "name": "python",
   "nbconvert_exporter": "python",
   "pygments_lexer": "ipython3",
   "version": "3.11.9"
  }
 },
 "nbformat": 4,
 "nbformat_minor": 2
}

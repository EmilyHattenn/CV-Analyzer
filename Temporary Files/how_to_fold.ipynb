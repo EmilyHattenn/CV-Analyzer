{
 "cells": [
  {
   "cell_type": "code",
   "execution_count": 1,
   "metadata": {},
   "outputs": [],
   "source": [
    "%matplotlib widget\n",
    "import matplotlib.pyplot as plt\n",
    "import numpy as np\n",
    "import lightkurve as lk\n",
    "from astropy.table import Table\n",
    "import scipy.signal as signal\n",
    "import scipy.optimize as optimize\n",
    "from tqdm import tqdm\n",
    "from modules import *\n",
    "\n",
    "plt.style.use('seaborn-v0_8-darkgrid')\n",
    "\n",
    "TIC = 'TIC 219107776'"
   ]
  },
  {
   "cell_type": "code",
   "execution_count": null,
   "metadata": {},
   "outputs": [],
   "source": [
    "lightcurves = get_lightcurves(TIC, author = 'SPOC', cadence='short', use_till=2)\n",
    "lightcurve = lightcurves[0]"
   ]
  },
  {
   "cell_type": "code",
   "execution_count": null,
   "metadata": {},
   "outputs": [],
   "source": [
    "periodogram = lightcurve.to_periodogram(maximum_frequency = 30)\n",
    "\n",
    "peak_width = 1 / ( (lightcurve.time.btjd[-1] - lightcurve.time.btjd[0]) * 2)\n",
    "print(peak_width)\n",
    "max_power = periodogram.max_power.value\n",
    "optimized_parameters_global = []\n",
    "\n",
    "colors = ['red', 'green', 'purple', 'orange', 'yellow', 'pink', 'brown', 'magenta', 'cyan']\n",
    "def color_change():\n",
    "    c = colors.pop(0)\n",
    "    colors.append(c)\n",
    "    yield c\n",
    "\n",
    "frequencies = periodogram.frequency.value\n",
    "power = periodogram.power.value\n",
    "f = np.linspace(frequencies.min(), frequencies.max(), 1000000)\n",
    "p = spline(frequencies, power, k = 3)(f)\n",
    "\n",
    "peaks, peakdict = signal.find_peaks(p, height = max_power/10)\n",
    "peaks_df = pd.DataFrame({'frequencies': f[peaks], 'power': p[peaks], 'peak_index': peaks})\n",
    "\n",
    "fi = go.FigureWidget([\n",
    "    go.Scatter(x=f[peaks], y=p[peaks], mode = 'markers', name = 'Peaks', marker = {\n",
    "        'symbol': 'x',\n",
    "        'size': 7,\n",
    "    }),\n",
    "    go.Scatter(x=frequencies, y=power, mode='lines', name = 'Periodogram', line = dict(color='black')),\n",
    "], layout = go.Layout(title = 'Periodogram Peaks', xaxis_title = 'Frequency [1/d]', yaxis_title = 'Power'))\n",
    "\n",
    "scatter = fi.data[0]\n",
    "fi.layout.hovermode = 'closest'\n",
    "\n",
    "def update_point(trace, points, selector):\n",
    "    for i in points.point_inds:\n",
    "        initial_guess = [peaks_df['power'][i], peaks_df['frequencies'][i], peak_width]\n",
    "        optimized_parameters, covariance = optimize.curve_fit(gaussian, frequencies, power, p0=initial_guess)\n",
    "        amp, cen, wid = optimized_parameters\n",
    "\n",
    "        fitted_gaussian = gaussian(frequencies, amp, cen, wid)\n",
    "        initial_gaussian = gaussian(frequencies, *initial_guess)\n",
    "\n",
    "        fi.add_trace(go.Scatter(x=frequencies, y=fitted_gaussian, mode='lines', name='Fitted Gaussian', line=dict(color=next(color_change()))))\n",
    "        fi.add_trace(go.Scatter(x=frequencies, y=initial_gaussian, mode='lines', name='Initial Gaussian', line=dict(color=next(color_change()))))\n",
    "        optimized_parameters_global.append(optimized_parameters)\n",
    "        print(optimized_parameters_global[-1])\n",
    "    \n",
    "scatter.on_click(update_point)\n",
    "fi\n"
   ]
  },
  {
   "cell_type": "code",
   "execution_count": null,
   "metadata": {},
   "outputs": [],
   "source": [
    "try:\n",
    "    fitted_frequency = optimized_parameters_global[-1][1]\n",
    "    fitted_period = 1/fitted_frequency\n",
    "except:\n",
    "    raise ValueError('No peaks clicked yet, please click on a peak to fit a gaussian to it.')\n",
    "\n",
    "print(f'Fitted Frequency: {fitted_frequency}')\n",
    "print(f'Fitted Period: {fitted_period}')"
   ]
  },
  {
   "cell_type": "code",
   "execution_count": null,
   "metadata": {},
   "outputs": [],
   "source": [
    "#IGNORE FOR NOW, Just using for syntax reference\n",
    "lightcurve.fold(fitted_period).bin(time_bin_size = 0.0005).scatter()"
   ]
  }
 ],
 "metadata": {
  "kernelspec": {
   "display_name": "Python 3",
   "language": "python",
   "name": "python3"
  },
  "language_info": {
   "codemirror_mode": {
    "name": "ipython",
    "version": 3
   },
   "file_extension": ".py",
   "mimetype": "text/x-python",
   "name": "python",
   "nbconvert_exporter": "python",
   "pygments_lexer": "ipython3",
   "version": "3.11.4"
  }
 },
 "nbformat": 4,
 "nbformat_minor": 2
}
